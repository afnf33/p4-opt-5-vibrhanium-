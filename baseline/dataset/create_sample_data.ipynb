{
 "cells": [
  {
   "cell_type": "markdown",
   "id": "5adbef56-0263-4586-8719-6df158c97096",
   "metadata": {},
   "source": [
    "### Setting"
   ]
  },
  {
   "cell_type": "code",
   "execution_count": 1,
   "id": "0f7c1fc0-cfd1-4fef-ae5e-ed7086da2e46",
   "metadata": {},
   "outputs": [],
   "source": [
    "import glob\n",
    "import shutil\n",
    "import os\n",
    "import random\n",
    "\n",
    "input_dir = \"/opt/ml/input\"\n",
    "data_dir = os.path.join(input_dir, \"data\")\n",
    "sample_dir = os.path.join(input_dir, \"sample_data\")\n",
    "\n",
    "categories = [\"Battery\", \"Clothing\", \"Glass\", \"Metal\", \"Paper\", \"Paperpack\", \"Plastic\", \"Plasticbag\", \"Styrofoam\"]"
   ]
  },
  {
   "cell_type": "code",
   "execution_count": 2,
   "id": "2262c7bd-5798-4ddb-bd41-ab15829dae5f",
   "metadata": {},
   "outputs": [],
   "source": [
    "# mask sample_data directory\n",
    "os.makedirs(sample_dir, exist_ok=True)\n",
    "os.makedirs(os.path.join(sample_dir, \"test\", \"NoLabel\"), exist_ok=True)\n",
    "\n",
    "for category in categories:\n",
    "    os.makedirs(os.path.join(sample_dir, \"train\", category), exist_ok=True)\n",
    "    os.makedirs(os.path.join(sample_dir, \"val\", category), exist_ok=True)"
   ]
  },
  {
   "cell_type": "markdown",
   "id": "0c7d9ba8-cb52-4422-88d7-b07ab57dd12a",
   "metadata": {},
   "source": [
    "### 데이터 개수 확인"
   ]
  },
  {
   "cell_type": "code",
   "execution_count": 3,
   "id": "ee5be5bb-f2ed-4068-bde6-6d09a9edfdbc",
   "metadata": {},
   "outputs": [
    {
     "name": "stdout",
     "output_type": "stream",
     "text": [
      "Category   | train |   val | total\n",
      "--------------------------------------\n",
      "Battery    |   261 |    87 | 348\n",
      "Clothing   |   676 |   225 | 901\n",
      "Glass      |  1169 |   389 | 1558\n",
      "Metal      |  1669 |   556 | 2225\n",
      "Paper      |  6895 |  2298 | 9193\n",
      "Paperpack  |  1458 |   486 | 1944\n",
      "Plastic    |  3793 |  1264 | 5057\n",
      "Plasticbag |  6970 |  2323 | 9293\n",
      "Styrofoam  |  1560 |   520 | 2080\n"
     ]
    }
   ],
   "source": [
    "print(f\"{'Category':10} | train |   val | total\")\n",
    "print(\"--------------------------------------\")\n",
    "for category in categories:\n",
    "    src_dir = os.path.join(data_dir, \"train\", category)\n",
    "    train_imgs = glob.glob(os.path.join(src_dir, \"*\"))\n",
    "    \n",
    "    src_dir = os.path.join(data_dir, \"val\", category)\n",
    "    val_imgs = glob.glob(os.path.join(src_dir, \"*\"))\n",
    "\n",
    "    print(f\"{category:10} | {len(train_imgs):5} | {len(val_imgs):5} | {len(train_imgs)+len(val_imgs)}\")"
   ]
  },
  {
   "cell_type": "markdown",
   "id": "e6559b95-72cd-473c-ae62-dcebfddf872b",
   "metadata": {},
   "source": [
    "### 일부 데이터(sample data) 복사\n",
    "- `/opt/ml/input/data` -> `/opt/ml/input/sample_data` 폴더\n",
    "- train data\n",
    "    - Battery  : 모두(261 개) 복사\n",
    "    - Clothing : 모두(676 개) 복사\n",
    "    - 그 외 : 1000개 복사\n",
    "- val data\n",
    "    - 복사한 train data의 30% 복사\n",
    "- test data는 모두 복사"
   ]
  },
  {
   "cell_type": "code",
   "execution_count": 4,
   "id": "b566348c-15bf-4df4-9b6a-68348ff70e15",
   "metadata": {},
   "outputs": [
    {
     "name": "stdout",
     "output_type": "stream",
     "text": [
      "Done.\n"
     ]
    }
   ],
   "source": [
    "# copy test data (all)\n",
    "\n",
    "src_dir = os.path.join(data_dir, \"test\", \"NoLabel\")\n",
    "dst_dir = os.path.join(sample_dir, \"test\", \"NoLabel\")\n",
    "for jpgfile in glob.iglob(os.path.join(src_dir, \"*\")):\n",
    "    shutil.copy(jpgfile, dst_dir)\n",
    "\n",
    "print(\"Done.\")"
   ]
  },
  {
   "cell_type": "code",
   "execution_count": null,
   "id": "01017c5e-6c80-4bc5-b8ea-fa44b7912670",
   "metadata": {},
   "outputs": [],
   "source": [
    "# copy train data\n",
    "\n",
    "num = 1000  # Battery, Clothing 외의 데이터 복사할 개수\n",
    "for category in categories:\n",
    "    # copy train data\n",
    "    src_dir = os.path.join(data_dir, \"train\", category)\n",
    "    dst_dir = os.path.join(sample_dir, \"train\", category)\n",
    "        \n",
    "    data = glob.glob(os.path.join(src_dir, \"*\"))\n",
    "    # random.shuffle(data)\n",
    "    for jpgfile in data[:num]:\n",
    "        shutil.copy(jpgfile, dst_dir)\n",
    "\n",
    "print(\"Done.\")"
   ]
  },
  {
   "cell_type": "code",
   "execution_count": null,
   "id": "cb5372c1-33f0-44da-8ee6-2805663fe9b5",
   "metadata": {},
   "outputs": [],
   "source": [
    "# copy validation data\n",
    "\n",
    "times = 0.3  # train data의 30% 복사\n",
    "\n",
    "for category in categories:\n",
    "    # copy validation data\n",
    "    sample_train_dir = os.path.join(sample_dir, \"train\", category)\n",
    "    src_dir = os.path.join(data_dir, \"val\", category)\n",
    "    dst_dir = os.path.join(sample_dir, \"val\", category)\n",
    "    \n",
    "    sample_train_data = glob.glob(os.path.join(sample_train_dir, \"*\"))\n",
    "    data = glob.glob(os.path.join(src_dir, \"*\"))\n",
    "    # random.shuffle(data)\n",
    "    num = int(len(sample_train_data)*times)\n",
    "    for jpgfile in data[:num]:\n",
    "        shutil.copy(jpgfile, dst_dir)\n",
    "        \n",
    "print(\"Done.\")"
   ]
  },
  {
   "cell_type": "markdown",
   "id": "1120e304-9bb3-4caf-8d3b-c726d3f60b6b",
   "metadata": {},
   "source": [
    "### 복사된 데이터(sample data) 개수 확인"
   ]
  },
  {
   "cell_type": "code",
   "execution_count": null,
   "id": "58c6a403-7a1e-44e3-b96c-b77a7e4e63e9",
   "metadata": {},
   "outputs": [],
   "source": [
    "print(f\"{'category':10} | train | validation\")\n",
    "print(f\"{'-'*30}\")\n",
    "\n",
    "for category in categories:\n",
    "    category_dir = os.path.join(sample_dir, \"train\", category)\n",
    "    sample_data = glob.glob(os.path.join(category_dir, \"*\"))\n",
    "    num = len(sample_data)\n",
    "    print(f\"{category:10} | {num:4}  |\", end=\"\")\n",
    "    \n",
    "    category_dir = os.path.join(sample_dir, \"val\", category)\n",
    "    sample_data = glob.glob(os.path.join(category_dir, \"*\"))\n",
    "    num = len(sample_data)\n",
    "    print(f\"{num:5}\")"
   ]
  },
  {
   "cell_type": "markdown",
   "id": "cd4d3c51-994b-4d20-9fcf-89ca45df2430",
   "metadata": {},
   "source": [
    "## 복사된 데이터(sample data) 일부 파일 명 확인"
   ]
  },
  {
   "cell_type": "code",
   "execution_count": null,
   "id": "50f53051-a959-40ab-abe5-08da8aa75586",
   "metadata": {},
   "outputs": [],
   "source": [
    "# Check train data\n",
    "print(f\"{'train':^33} | {'validation':^30}\")\n",
    "print(f\"{'-'*66}\")\n",
    "\n",
    "num = 10  # 각 데이터 10개씩만 확인\n",
    "for category in categories:\n",
    "    print(category)\n",
    "    category_dir = os.path.join(sample_dir, \"train\", category)\n",
    "    sample_train_data = glob.glob(os.path.join(category_dir, \"*\"))\n",
    "    \n",
    "    category_dir = os.path.join(sample_dir, \"val\", category)\n",
    "    sample_val_data = glob.glob(os.path.join(category_dir, \"*\"))\n",
    "    for i, (train_img, val_img) in enumerate(zip(sample_train_data[:num], sample_val_data[:num])):\n",
    "        train_fn = train_img.split('/')[-1]\n",
    "        val_fn = val_img.split('/')[-1]\n",
    "        print(f\"{i:3}: {train_fn} | {val_fn}\")\n",
    "    print(f\"{'-'*66}\")"
   ]
  },
  {
   "cell_type": "code",
   "execution_count": null,
   "id": "4fc6c8d6-180a-44b7-b0ee-cdd8aa444971",
   "metadata": {},
   "outputs": [],
   "source": []
  },
  {
   "cell_type": "code",
   "execution_count": null,
   "id": "3804be32-6522-4426-adb1-ddee5561ab99",
   "metadata": {},
   "outputs": [],
   "source": []
  }
 ],
 "metadata": {
  "kernelspec": {
   "display_name": "Python 3",
   "language": "python",
   "name": "python3"
  },
  "language_info": {
   "codemirror_mode": {
    "name": "ipython",
    "version": 3
   },
   "file_extension": ".py",
   "mimetype": "text/x-python",
   "name": "python",
   "nbconvert_exporter": "python",
   "pygments_lexer": "ipython3",
   "version": "3.8.5"
  }
 },
 "nbformat": 4,
 "nbformat_minor": 5
}
