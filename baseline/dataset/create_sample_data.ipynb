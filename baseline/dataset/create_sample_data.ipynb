{
 "cells": [
  {
   "cell_type": "markdown",
   "id": "5adbef56-0263-4586-8719-6df158c97096",
   "metadata": {},
   "source": [
    "### Setting"
   ]
  },
  {
   "cell_type": "code",
   "execution_count": 15,
   "id": "0f7c1fc0-cfd1-4fef-ae5e-ed7086da2e46",
   "metadata": {},
   "outputs": [],
   "source": [
    "import glob\n",
    "import shutil\n",
    "import os\n",
    "import random\n",
    "\n",
    "input_dir = \"/opt/ml/input\"\n",
    "data_dir = os.path.join(input_dir, \"data\")\n",
    "sample_dir = os.path.join(input_dir, \"sample_data\")\n",
    "\n",
    "categories = [\"Battery\", \"Clothing\", \"Glass\", \"Metal\", \"Paper\", \"Paperpack\", \"Plastic\", \"Plasticbag\", \"Styrofoam\"]"
   ]
  },
  {
   "cell_type": "code",
   "execution_count": 17,
   "id": "2262c7bd-5798-4ddb-bd41-ab15829dae5f",
   "metadata": {},
   "outputs": [],
   "source": [
    "# mask sample_data directory\n",
    "os.makedirs(sample_dir, exist_ok=True)\n",
    "os.makedirs(os.path.join(sample_dir, \"test\", \"NoLabel\"), exist_ok=True)\n",
    "\n",
    "for category in categories:\n",
    "    os.makedirs(os.path.join(sample_dir, \"train\", category), exist_ok=True)\n",
    "    os.makedirs(os.path.join(sample_dir, \"val\", category), exist_ok=True)"
   ]
  },
  {
   "cell_type": "markdown",
   "id": "0c7d9ba8-cb52-4422-88d7-b07ab57dd12a",
   "metadata": {},
   "source": [
    "### 데이터 개수 확인"
   ]
  },
  {
   "cell_type": "code",
   "execution_count": 18,
   "id": "ee5be5bb-f2ed-4068-bde6-6d09a9edfdbc",
   "metadata": {},
   "outputs": [
    {
     "name": "stdout",
     "output_type": "stream",
     "text": [
      "Category   | train |   val | total\n",
      "--------------------------------------\n",
      "Battery    |   261 |    87 | 348\n",
      "Clothing   |   676 |   225 | 901\n",
      "Glass      |  1169 |   389 | 1558\n",
      "Metal      |  1669 |   556 | 2225\n",
      "Paper      |  6895 |  2298 | 9193\n",
      "Paperpack  |  1458 |   486 | 1944\n",
      "Plastic    |  3793 |  1264 | 5057\n",
      "Plasticbag |  6970 |  2323 | 9293\n",
      "Styrofoam  |  1560 |   520 | 2080\n"
     ]
    }
   ],
   "source": [
    "print(f\"{'Category':10} | train |   val | total\")\n",
    "print(\"--------------------------------------\")\n",
    "for category in categories:\n",
    "    src_dir = os.path.join(data_dir, \"train\", category)\n",
    "    train_imgs = glob.glob(os.path.join(src_dir, \"*\"))\n",
    "    \n",
    "    src_dir = os.path.join(data_dir, \"val\", category)\n",
    "    val_imgs = glob.glob(os.path.join(src_dir, \"*\"))\n",
    "\n",
    "    print(f\"{category:10} | {len(train_imgs):5} | {len(val_imgs):5} | {len(train_imgs)+len(val_imgs)}\")"
   ]
  },
  {
   "cell_type": "markdown",
   "id": "e6559b95-72cd-473c-ae62-dcebfddf872b",
   "metadata": {},
   "source": [
    "### 일부 데이터(sample data) 복사\n",
    "- `/opt/ml/input/data` -> `/opt/ml/input/sample_data` 폴더\n",
    "- train data\n",
    "    - Battery  : 모두(261 개) 복사\n",
    "    - Clothing : 모두(676 개) 복사\n",
    "    - 그 외 : 1000개 복사\n",
    "- val data\n",
    "    - 복사한 train data의 30% 복사\n",
    "- test data는 모두 복사"
   ]
  },
  {
   "cell_type": "code",
   "execution_count": 19,
   "id": "b566348c-15bf-4df4-9b6a-68348ff70e15",
   "metadata": {},
   "outputs": [
    {
     "name": "stdout",
     "output_type": "stream",
     "text": [
      "Done.\n"
     ]
    }
   ],
   "source": [
    "# copy test data (all)\n",
    "\n",
    "src_dir = os.path.join(data_dir, \"test\", \"NoLabel\")\n",
    "dst_dir = os.path.join(sample_dir, \"test\", \"NoLabel\")\n",
    "for jpgfile in glob.iglob(os.path.join(src_dir, \"*\")):\n",
    "    shutil.copy(jpgfile, dst_dir)\n",
    "\n",
    "print(\"Done.\")"
   ]
  },
  {
   "cell_type": "code",
   "execution_count": 20,
   "id": "01017c5e-6c80-4bc5-b8ea-fa44b7912670",
   "metadata": {},
   "outputs": [
    {
     "name": "stdout",
     "output_type": "stream",
     "text": [
      "Done.\n"
     ]
    }
   ],
   "source": [
    "# copy train data\n",
    "\n",
    "num = 100  # Battery, Clothing 외의 데이터 복사할 개수\n",
    "for category in categories:\n",
    "    # copy train data\n",
    "    src_dir = os.path.join(data_dir, \"train\", category)\n",
    "    dst_dir = os.path.join(sample_dir, \"train\", category)\n",
    "        \n",
    "    data = glob.glob(os.path.join(src_dir, \"*\"))\n",
    "    # random.shuffle(data)\n",
    "    for jpgfile in data[:num]:\n",
    "        shutil.copy(jpgfile, dst_dir)\n",
    "\n",
    "print(\"Done.\")"
   ]
  },
  {
   "cell_type": "code",
   "execution_count": 21,
   "id": "cb5372c1-33f0-44da-8ee6-2805663fe9b5",
   "metadata": {},
   "outputs": [
    {
     "name": "stdout",
     "output_type": "stream",
     "text": [
      "Done.\n"
     ]
    }
   ],
   "source": [
    "# copy validation data\n",
    "\n",
    "times = 0.3  # train data의 30% 복사\n",
    "\n",
    "for category in categories:\n",
    "    # copy validation data\n",
    "    sample_train_dir = os.path.join(sample_dir, \"train\", category)\n",
    "    src_dir = os.path.join(data_dir, \"val\", category)\n",
    "    dst_dir = os.path.join(sample_dir, \"val\", category)\n",
    "    \n",
    "    sample_train_data = glob.glob(os.path.join(sample_train_dir, \"*\"))\n",
    "    data = glob.glob(os.path.join(src_dir, \"*\"))\n",
    "    # random.shuffle(data)\n",
    "    num = int(len(sample_train_data)*times)\n",
    "    for jpgfile in data[:num]:\n",
    "        shutil.copy(jpgfile, dst_dir)\n",
    "        \n",
    "print(\"Done.\")"
   ]
  },
  {
   "cell_type": "markdown",
   "id": "1120e304-9bb3-4caf-8d3b-c726d3f60b6b",
   "metadata": {},
   "source": [
    "### 복사된 데이터(sample data) 개수 확인"
   ]
  },
  {
   "cell_type": "code",
   "execution_count": 22,
   "id": "58c6a403-7a1e-44e3-b96c-b77a7e4e63e9",
   "metadata": {},
   "outputs": [
    {
     "name": "stdout",
     "output_type": "stream",
     "text": [
      "category   | train | validation\n",
      "------------------------------\n",
      "Battery    |  100  |   30\n",
      "Clothing   |  100  |   30\n",
      "Glass      |  100  |   30\n",
      "Metal      |  100  |   30\n",
      "Paper      |  100  |   30\n",
      "Paperpack  |  100  |   30\n",
      "Plastic    |  100  |   30\n",
      "Plasticbag |  100  |   30\n",
      "Styrofoam  |  100  |   30\n"
     ]
    }
   ],
   "source": [
    "print(f\"{'category':10} | train | validation\")\n",
    "print(f\"{'-'*30}\")\n",
    "\n",
    "for category in categories:\n",
    "    category_dir = os.path.join(sample_dir, \"train\", category)\n",
    "    sample_data = glob.glob(os.path.join(category_dir, \"*\"))\n",
    "    num = len(sample_data)\n",
    "    print(f\"{category:10} | {num:4}  |\", end=\"\")\n",
    "    \n",
    "    category_dir = os.path.join(sample_dir, \"val\", category)\n",
    "    sample_data = glob.glob(os.path.join(category_dir, \"*\"))\n",
    "    num = len(sample_data)\n",
    "    print(f\"{num:5}\")"
   ]
  },
  {
   "cell_type": "markdown",
   "id": "cd4d3c51-994b-4d20-9fcf-89ca45df2430",
   "metadata": {},
   "source": [
    "## 복사된 데이터(sample data) 일부 파일 명 확인"
   ]
  },
  {
   "cell_type": "code",
   "execution_count": 23,
   "id": "50f53051-a959-40ab-abe5-08da8aa75586",
   "metadata": {},
   "outputs": [
    {
     "name": "stdout",
     "output_type": "stream",
     "text": [
      "              train               |           validation          \n",
      "------------------------------------------------------------------\n",
      "Battery\n",
      "  0: jvcbfelzcxnwlcvdqicgiawf.jpg | 0kgixtccxvclspcodgvrssfv.jpg\n",
      "  1: 00lgniecqhkrwtmygiekbkoq.jpg | 0000zvojloffsgodgfzdhsbx.jpg\n",
      "  2: 000hnrcodsgzhvpyouuiwafr.jpg | 000krbyibuioecrdqvnoopkv.jpg\n",
      "  3: 0ktbphrszirwyjktuizczmvq.jpg | kltcfdzezyhokqdkiswtovoj.jpg\n",
      "  4: pcqakahlvgqbbxsddzmecruf.jpg | gdvgqbapduhaljdmpyvvtmne.jpg\n",
      "  5: 00oyhkqmybaxudmkfmlpjggo.jpg | 000vahrzpvvgvuptnhynfnxx.jpg\n",
      "  6: 00rzpdqvjlakhwnocbyizyka.jpg | rjgpwlweyanhkyxwymzelmly.jpg\n",
      "  7: 0000rdmgxsvlxjmpiuklwpmq.jpg | 0000hmlckscazzfjduiucive.jpg\n",
      "  8: 00mttlodgsekxrlbgktlymeg.jpg | 00yvfezewqcxcwtpewvyiiwu.jpg\n",
      "  9: 0000mnlgsibktntcmcelpuze.jpg | 0000ygpivjeqbkvbrtibslav.jpg\n",
      "------------------------------------------------------------------\n",
      "Clothing\n",
      "  0: 00ijauedmmlzsncfyrrsduuo.jpg | 00mbrcoofiwoxeldfmqkrrsj.jpg\n",
      "  1: 00fjyomqiahizmeogbponnln.jpg | 0000usznmlqtrziqcbnndxcm.jpg\n",
      "  2: 00nwrdkttwlgeleumochvdyv.jpg | 0000gwocbmnaifqcdrmmfcwd.jpg\n",
      "  3: frutaolxtlgskhubhinrvstr.jpg | 0000xadvbrikjidfpafqrupo.jpg\n",
      "  4: 00dhtqpkepestxjbwovkrgly.jpg | 00pavtpczzqdcdivcubmaeau.jpg\n",
      "  5: upcjkejtogsdbfhadckumtcq.jpg | 0000sdnvjhjkyohvmljitbch.jpg\n",
      "  6: 00xjpzcenacworitycbqupwe.jpg | 00xumshskrffxicsictqijfz.jpg\n",
      "  7: 000mdozwurzhilveunmrulrh.jpg | 0vkouipootmlbklruspgrgcs.jpg\n",
      "  8: qfhgnouiafqzbezmegjntpfx.jpg | 0000mqlywktvodczlcrclibk.jpg\n",
      "  9: 000rwfihaxmqizujmdvxepms.jpg | 0qxhyvbjwzejylmjgbxixumj.jpg\n",
      "------------------------------------------------------------------\n",
      "Glass\n",
      "  0: 0000deecntzfqexhkkavukrn.jpg | 000rmfmkmzjiskssusdukzsy.jpg\n",
      "  1: 0zccinfukglygmjygbmworun.jpg | 000pwxcmmvowzrhqtgtvgrat.jpg\n",
      "  2: 000mlgdltqybwnvxovtnwfwb.jpg | 0000wwuqosblxjqojcbqqfnj.jpg\n",
      "  3: 000ehbuhvfeecsyggydtungh.jpg | gvmsdofruhrsfmhhcntjqsys.jpg\n",
      "  4: 00ftvdweunestxsvgmkluvgk.jpg | 0lxftufvyzjhljkwaxxnkrjt.jpg\n",
      "  5: 000lgqjopngaiqzzpudpehbp.jpg | 0mvgvapmnqskyyrvjybnlnbd.jpg\n",
      "  6: 0mvwrurcgqoadutvvjuvklap.jpg | rfwetjlwtaqeqqxyvlmcekvm.jpg\n",
      "  7: 0000kztbetymuchncmgfvhvm.jpg | 00yvelvuddxtukrnvdtymiva.jpg\n",
      "  8: 0kzifvvbjfzpkaatnregfeae.jpg | 0000bsvylachxtnffqiszdjr.jpg\n",
      "  9: 00jpticgsvcfaoacmxgguehf.jpg | 0fjhrssjiwftubghwujokefb.jpg\n",
      "------------------------------------------------------------------\n",
      "Metal\n",
      "  0: 000fbasnvddiwnxymacamsqg.jpg | 0uqiottzwmsezzxktamzqrft.jpg\n",
      "  1: 0euepmvspkfqekinjbdcgmcw.jpg | 0000jsxtaauhswsrjjaacart.jpg\n",
      "  2: 0flwjrgodcyrednrsxkqlvhq.jpg | hgdhdljyrqzcsjxmmnxsdhky.jpg\n",
      "  3: 0cnxpyiqsnfphhpromongfuy.jpg | 0hvvrifyusxtvluiisocthqz.jpg\n",
      "  4: 0ynzpmbgktypywgkzvqgjuit.jpg | 0fxoficmkujxobwkeiummtit.jpg\n",
      "  5: 0gbvgdtpspnkpakkscizmtkg.jpg | muzhmicmoxactzilulsjcaqa.jpg\n",
      "  6: 00yhffoskvrlfrvawkjimcyw.jpg | 0000vxqxjxvivbjbxefltiml.jpg\n",
      "  7: 0000lybcpnwutsarnjbnmvgf.jpg | 000nbvqpdgyakfcgypoedbgm.jpg\n",
      "  8: 0000rnzfhajgowmmcvrjctls.jpg | 0wvgwhgwzwoceqgyztdlutxa.jpg\n",
      "  9: 0ddgikexvkjdikvzpywcluor.jpg | 0zxaszjomlbqoakichcanmlo.jpg\n",
      "------------------------------------------------------------------\n",
      "Paper\n",
      "  0: 000fgmstffdukfemulnumqjj.jpg | 00xgpibhuvqwnvvxbyodiyib.jpg\n",
      "  1: zdqudnxfzncyfyxrivewsyht.jpg | 00ymslenvoeduqibyvmcoadn.jpg\n",
      "  2: 0iurudizrhjebguzfxtvjxrn.jpg | udjwokqwcmwjrwekjesfxkvo.jpg\n",
      "  3: 000kyhowhttppphrpvdbamtk.jpg | 0000ernubauykscwgpqlslkg.jpg\n",
      "  4: 0000pxdchcmeekderbnxagkd.jpg | 00intqlkisabzqzdugzrvgfm.jpg\n",
      "  5: jmzuiptcductlcyhoerijder.jpg | 0000sjlbvolvlqgpgmdchxri.jpg\n",
      "  6: 000zzqrlybphmeovwifcrxdr.jpg | ejinvajuulykozfdncjqqroq.jpg\n",
      "  7: 000pqvsodsphudgwixncbwmz.jpg | mysxtvhkyxowukgxmfkivjff.jpg\n",
      "  8: buaqvoskknzupgbgzfwohgdd.jpg | 000ebtfowvemqgccekimdfjn.jpg\n",
      "  9: 0000ghdlemoaqwguzgkfxcmo.jpg | lpzxdtaiperriefqcopeejtm.jpg\n",
      "------------------------------------------------------------------\n",
      "Paperpack\n",
      "  0: 000taolzxhsvhylnzoozxmvm.jpg | 0000wolmglftceeqlhpaddrg.jpg\n",
      "  1: 0uostrugllumlpfqdfcqtngq.jpg | 00jbafiinkmfdqerklivrymo.jpg\n",
      "  2: 0gqdpgnzygpjnmpbblwdczkz.jpg | 000hpygiwggbhgaacfcqzian.jpg\n",
      "  3: 0000ovzuypmkwccgxeaqbevu.jpg | 0gudtpjadcdausihpmhlcsvy.jpg\n",
      "  4: 000hjpgjbxhiwceizowxifzd.jpg | 00suuvsahtygbjwbdcovsxdq.jpg\n",
      "  5: 000fdfijspoqnqlypqwukcai.jpg | 000zbbotawkzmzrpmfrtqmxp.jpg\n",
      "  6: 0bdkkzhviaykislzqufneaph.jpg | qgdwgexfvhqxwxunzyvcmtpz.jpg\n",
      "  7: 000zpmfswoevnpifezaipjvl.jpg | 0tuwqyyknanqximgrlpdraoo.jpg\n",
      "  8: 000fqpsntkodxyudvxoenfdl.jpg | 000dwsgblwwazwvcfdjjqzav.jpg\n",
      "  9: sxboaezphyzzbdsswvsbzwnn.jpg | ezcmnsguzhmartmsilmwnmym.jpg\n",
      "------------------------------------------------------------------\n",
      "Plastic\n",
      "  0: 0000zoclltncfrvvewqcupqm.jpg | 000egncagdflyicqdrszgpzn.jpg\n",
      "  1: 0sqdmtnxlxhxrlpbzeonduud.jpg | 0pwcfaloopzgkkkjeagzvuhl.jpg\n",
      "  2: 0iiplavvbfeomofvxbzmieqs.jpg | 0000zmaoqarqwjqnnipzaato.jpg\n",
      "  3: geqsoxmbmnepwmfciykehxtr.jpg | 0000snarxkzcbopjnofkhhki.jpg\n",
      "  4: 0000rzpuuufvmdpfjykxhvlp.jpg | 000izgzrlnjemmlizzczudcx.jpg\n",
      "  5: mkjnwzsigwlzsiygcywnsnfi.jpg | 000lpffusfhxllwszpsmlsjr.jpg\n",
      "  6: 00ojwiscqcgmyaqrqpkctnzo.jpg | 000kmkxyrlelrtuldzqubfds.jpg\n",
      "  7: 00qkwwynnxkdoltjkpnaarru.jpg | hvgwqhfpdxkznoriqwsphddb.jpg\n",
      "  8: 000truuwismljnpymqpqozqv.jpg | 000uiclscbslpzzrmbqgonik.jpg\n",
      "  9: 000vakfmfjbwhandgsrxntjp.jpg | 00qwjkjyxdzvbtkezdzsdsdw.jpg\n",
      "------------------------------------------------------------------\n",
      "Plasticbag\n",
      "  0: vuzuibshgucpqbotizmplutc.jpg | 000vcagvczakniwjykqmrtuo.jpg\n",
      "  1: upnmujkhjhoryearintamgoo.jpg | 0000ovbsuswcqrslhlpzcncn.jpg\n",
      "  2: cmogthmcdjvrfjdgttsiedoa.jpg | 00hqffdpgqeavujhsyhbhrdz.jpg\n",
      "  3: 00qhbdcyutewsjzywyepmwam.jpg | 000jvexjqyoanbqmvimbrowz.jpg\n",
      "  4: 0vjmukzrpejfzwavhmbdtceu.jpg | 000gugnzxfixzqxzynptbwnh.jpg\n",
      "  5: 00olvooszbqwkmylxrtzikvn.jpg | qpppznzcifgljbfatinysojn.jpg\n",
      "  6: 00cthejhhgcgivdmbcemvcce.jpg | tbqsvpjdnstvjfdwkiuzzhnd.jpg\n",
      "  7: 00nulokqpcnpczfmlnesrwnj.jpg | 00gkpvpkgaahpedjicrtqfgg.jpg\n",
      "  8: 0zzgvfsvuyzyjujikodkyavg.jpg | 00qkqijclcppcuxpbzhxvzqk.jpg\n",
      "  9: qkyhhwhwyjyphyagemzwesbe.jpg | 00nvyphlxgdmyjzujnvbzljg.jpg\n",
      "------------------------------------------------------------------\n",
      "Styrofoam\n",
      "  0: 0000zdjcxsaccuwitlkwfsix.jpg | 0000xggdwoxdbwfvbfnykxsv.jpg\n",
      "  1: 0gkpsajnihvxwuqxvrqyycli.jpg | eeabrhpcajdelktplldqpavd.jpg\n",
      "  2: 00qsnssxplxsplhwxqkadrxx.jpg | 0mwttfmccenidbgibbrpcdze.jpg\n",
      "  3: upthpeivrealbilfpqczbbbo.jpg | 0000lpsoygxdiuanejbrcclm.jpg\n",
      "  4: 000rsikvuzytndboccxzlryk.jpg | 0aihlhkwonitnntedqbnukck.jpg\n",
      "  5: 0000kbudyshxeehdycurdsog.jpg | 00gdbcbtamxljzbhwjtygpzj.jpg\n",
      "  6: 00krgllbtolmdjbdtedeuiqt.jpg | kyhsllcggpspjltfqxcmkebq.jpg\n",
      "  7: bqfwkevcbnnobymqtkytsfdw.jpg | 000rhzmkmiyydjilxkgwbfil.jpg\n",
      "  8: 0000nzkpxlmzelssrhnycouj.jpg | 00jteizhxhzyzbdivmdcopjg.jpg\n",
      "  9: ahqunluhjkgjbjpgugblpxbf.jpg | xkmjrjptjwvhxogzyxaasyvs.jpg\n",
      "------------------------------------------------------------------\n"
     ]
    }
   ],
   "source": [
    "# Check train data\n",
    "print(f\"{'train':^33} | {'validation':^30}\")\n",
    "print(f\"{'-'*66}\")\n",
    "\n",
    "num = 10  # 각 데이터 10개씩만 확인\n",
    "for category in categories:\n",
    "    print(category)\n",
    "    category_dir = os.path.join(sample_dir, \"train\", category)\n",
    "    sample_train_data = glob.glob(os.path.join(category_dir, \"*\"))\n",
    "    \n",
    "    category_dir = os.path.join(sample_dir, \"val\", category)\n",
    "    sample_val_data = glob.glob(os.path.join(category_dir, \"*\"))\n",
    "    for i, (train_img, val_img) in enumerate(zip(sample_train_data[:num], sample_val_data[:num])):\n",
    "        train_fn = train_img.split('/')[-1]\n",
    "        val_fn = val_img.split('/')[-1]\n",
    "        print(f\"{i:3}: {train_fn} | {val_fn}\")\n",
    "    print(f\"{'-'*66}\")"
   ]
  },
  {
   "cell_type": "code",
   "execution_count": null,
   "id": "4fc6c8d6-180a-44b7-b0ee-cdd8aa444971",
   "metadata": {},
   "outputs": [],
   "source": []
  },
  {
   "cell_type": "code",
   "execution_count": null,
   "id": "3804be32-6522-4426-adb1-ddee5561ab99",
   "metadata": {},
   "outputs": [],
   "source": []
  }
 ],
 "metadata": {
  "kernelspec": {
   "display_name": "Python 3",
   "language": "python",
   "name": "python3"
  },
  "language_info": {
   "codemirror_mode": {
    "name": "ipython",
    "version": 3
   },
   "file_extension": ".py",
   "mimetype": "text/x-python",
   "name": "python",
   "nbconvert_exporter": "python",
   "pygments_lexer": "ipython3",
   "version": "3.8.5"
  }
 },
 "nbformat": 4,
 "nbformat_minor": 5
}
