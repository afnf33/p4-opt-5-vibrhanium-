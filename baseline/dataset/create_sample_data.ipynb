{
 "cells": [
  {
   "cell_type": "markdown",
   "id": "5adbef56-0263-4586-8719-6df158c97096",
   "metadata": {},
   "source": [
    "### Setting"
   ]
  },
  {
   "cell_type": "code",
   "execution_count": 1,
   "id": "0f7c1fc0-cfd1-4fef-ae5e-ed7086da2e46",
   "metadata": {},
   "outputs": [],
   "source": [
    "import glob\n",
    "import shutil\n",
    "import os\n",
    "import random\n",
    "\n",
    "input_dir = \"/opt/ml/input\"\n",
    "data_dir = os.path.join(input_dir, \"data\")\n",
    "sample_dir = os.path.join(input_dir, \"sample_data\")\n",
    "\n",
    "categories = [\"Battery\", \"Clothing\", \"Glass\", \"Metal\", \"Paper\", \"Paperpack\", \"Plastic\", \"Plasticbag\", \"Styrofoam\"]"
   ]
  },
  {
   "cell_type": "code",
   "execution_count": 2,
   "id": "2262c7bd-5798-4ddb-bd41-ab15829dae5f",
   "metadata": {},
   "outputs": [],
   "source": [
    "# mask sample_data directory\n",
    "os.makedirs(sample_dir, exist_ok=True)\n",
    "os.makedirs(os.path.join(sample_dir, \"train\"), exist_ok=True)\n",
    "os.makedirs(os.path.join(sample_dir, \"val\"), exist_ok=True)\n",
    "\n",
    "for category in categories:\n",
    "    os.makedirs(os.path.join(sample_dir, \"train\", category), exist_ok=True)\n",
    "    os.makedirs(os.path.join(sample_dir, \"test\", category), exist_ok=True)\n",
    "    os.makedirs(os.path.join(sample_dir, \"val\", category), exist_ok=True)"
   ]
  },
  {
   "cell_type": "markdown",
   "id": "0c7d9ba8-cb52-4422-88d7-b07ab57dd12a",
   "metadata": {},
   "source": [
    "### 데이터 개수 확인"
   ]
  },
  {
   "cell_type": "code",
   "execution_count": 3,
   "id": "ee5be5bb-f2ed-4068-bde6-6d09a9edfdbc",
   "metadata": {},
   "outputs": [
    {
     "name": "stdout",
     "output_type": "stream",
     "text": [
      "Category   | train |   val | total\n",
      "--------------------------------------\n",
      "Battery    |   261 |    87 | 348\n",
      "Clothing   |   676 |   225 | 901\n",
      "Glass      |  1169 |   389 | 1558\n",
      "Metal      |  1669 |   556 | 2225\n",
      "Paper      |  6895 |  2298 | 9193\n",
      "Paperpack  |  1458 |   486 | 1944\n",
      "Plastic    |  3793 |  1264 | 5057\n",
      "Plasticbag |  6970 |  2323 | 9293\n",
      "Styrofoam  |  1560 |   520 | 2080\n"
     ]
    }
   ],
   "source": [
    "print(f\"{'Category':10} | train |   val | total\")\n",
    "print(\"--------------------------------------\")\n",
    "for category in categories:\n",
    "    src_dir = os.path.join(data_dir, \"train\", category)\n",
    "    train_imgs = glob.glob(os.path.join(src_dir, \"*\"))\n",
    "    \n",
    "    src_dir = os.path.join(data_dir, \"val\", category)\n",
    "    val_imgs = glob.glob(os.path.join(src_dir, \"*\"))\n",
    "\n",
    "    print(f\"{category:10} | {len(train_imgs):5} | {len(val_imgs):5} | {len(train_imgs)+len(val_imgs)}\")"
   ]
  },
  {
   "cell_type": "markdown",
   "id": "e6559b95-72cd-473c-ae62-dcebfddf872b",
   "metadata": {},
   "source": [
    "### 일부 데이터(sample data) 복사\n",
    "- `/opt/ml/input/data` -> `/opt/ml/input/sample_data` 폴더\n",
    "- train/val data는 category별 비율 유지하면서 일부 복사\n",
    "- test data는 모두 복사"
   ]
  },
  {
   "cell_type": "code",
   "execution_count": 6,
   "id": "fa112fdc-ee8c-4106-b153-5444f5601936",
   "metadata": {},
   "outputs": [
    {
     "name": "stdout",
     "output_type": "stream",
     "text": [
      "Done.\n"
     ]
    }
   ],
   "source": [
    "times = 0.1  # 각 category의 총 데이터 개수의 times배 만큼 추출\n",
    "\n",
    "for category in categories:\n",
    "    # copy train data\n",
    "    src_dir = os.path.join(data_dir, \"train\", category)\n",
    "    dst_dir = os.path.join(sample_dir, \"train\", category)\n",
    "    data = glob.glob(os.path.join(src_dir, \"*\"))\n",
    "    random.shuffle(data)  # shuffle\n",
    "    num = int(len(data)*times)\n",
    "    for jpgfile in data[:num]:\n",
    "        shutil.copy(jpgfile, dst_dir)\n",
    "    \n",
    "    # copy validation data\n",
    "    src_dir = os.path.join(data_dir, \"val\", category)\n",
    "    dst_dir = os.path.join(sample_dir, \"val\", category)\n",
    "    data = glob.glob(os.path.join(src_dir, \"*\"))\n",
    "    random.shuffle(data)  # shuffle\n",
    "    num = int(len(data)*times)\n",
    "    for jpgfile in data[:num]:\n",
    "        shutil.copy(jpgfile, dst_dir)\n",
    "        \n",
    "    # copy test data (all)\n",
    "    src_dir = os.path.join(data_dir, \"test\", category)\n",
    "    dst_dir = os.path.join(sample_dir, \"test\", category)\n",
    "    for jpgfile in glob.iglob(os.path.join(src_dir, \"*\")):\n",
    "        shutil.copy(jpgfile, dst_dir)\n",
    "        \n",
    "print(\"Done.\")"
   ]
  },
  {
   "cell_type": "markdown",
   "id": "1120e304-9bb3-4caf-8d3b-c726d3f60b6b",
   "metadata": {},
   "source": [
    "### 복사된 데이터(sample data) 개수 확인"
   ]
  },
  {
   "cell_type": "code",
   "execution_count": 7,
   "id": "58c6a403-7a1e-44e3-b96c-b77a7e4e63e9",
   "metadata": {},
   "outputs": [
    {
     "name": "stdout",
     "output_type": "stream",
     "text": [
      "Copy 10.0% of each category\n",
      "\n",
      "category   | train | validation\n",
      "------------------------------\n",
      "Battery    |   26  |    8\n",
      "Clothing   |   67  |   22\n",
      "Glass      |  116  |   38\n",
      "Metal      |  166  |   55\n",
      "Paper      |  689  |  229\n",
      "Paperpack  |  145  |   48\n",
      "Plastic    |  379  |  126\n",
      "Plasticbag |  697  |  232\n",
      "Styrofoam  |  156  |   52\n"
     ]
    }
   ],
   "source": [
    "print(f\"Copy {times*100}% of each category\\n\")\n",
    "print(f\"{'category':10} | train | validation\")\n",
    "print(f\"{'-'*30}\")\n",
    "\n",
    "for category in categories:\n",
    "    category_dir = os.path.join(sample_dir, \"train\", category)\n",
    "    sample_data = glob.glob(os.path.join(category_dir, \"*\"))\n",
    "    num = len(sample_data)\n",
    "    print(f\"{category:10} | {num:4}  |\", end=\"\")\n",
    "    \n",
    "    category_dir = os.path.join(sample_dir, \"val\", category)\n",
    "    sample_data = glob.glob(os.path.join(category_dir, \"*\"))\n",
    "    num = len(sample_data)\n",
    "    print(f\"{num:5}\")"
   ]
  },
  {
   "cell_type": "code",
   "execution_count": null,
   "id": "50f53051-a959-40ab-abe5-08da8aa75586",
   "metadata": {},
   "outputs": [],
   "source": []
  }
 ],
 "metadata": {
  "kernelspec": {
   "display_name": "Python 3",
   "language": "python",
   "name": "python3"
  },
  "language_info": {
   "codemirror_mode": {
    "name": "ipython",
    "version": 3
   },
   "file_extension": ".py",
   "mimetype": "text/x-python",
   "name": "python",
   "nbconvert_exporter": "python",
   "pygments_lexer": "ipython3",
   "version": "3.8.5"
  }
 },
 "nbformat": 4,
 "nbformat_minor": 5
}
