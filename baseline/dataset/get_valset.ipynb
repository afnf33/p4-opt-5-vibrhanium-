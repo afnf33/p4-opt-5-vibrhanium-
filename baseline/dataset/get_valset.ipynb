{
 "cells": [
  {
   "cell_type": "markdown",
   "id": "3437d743-efdc-4887-a121-bf03de6b5e41",
   "metadata": {},
   "source": [
    "기본 셋팅"
   ]
  },
  {
   "cell_type": "code",
   "execution_count": 1,
   "id": "25cc7ac4-e07f-4ab4-aa5a-55cf2b26450d",
   "metadata": {},
   "outputs": [],
   "source": [
    "import glob\n",
    "import shutil\n",
    "import os\n",
    "data_dir = \"../input/data\"\n",
    "categories = [\"Battery\", \"Clothing\", \"Glass\", \"Metal\", \"Paper\", \"Paperpack\", \"Plastic\", \"Plasticbag\", \"Styrofoam\"]\n",
    "path = os.path.join(data_dir, \"train_all\") # train + val 저장할 directory\n",
    "for category in categories:\n",
    "    os.makedirs(os.path.join(path, category), exist_ok=True)"
   ]
  },
  {
   "cell_type": "markdown",
   "id": "5039c4c7-202c-4798-acfb-8b9634495a70",
   "metadata": {},
   "source": [
    "개수 확인(이후에 모두 저장되는지 검증용) - (1)"
   ]
  },
  {
   "cell_type": "code",
   "execution_count": 76,
   "id": "94bec7ef-a385-4e2b-a022-2cf370552676",
   "metadata": {
    "tags": []
   },
   "outputs": [
    {
     "name": "stdout",
     "output_type": "stream",
     "text": [
      "Category   | train |   val | total | val/train ratio\n",
      "--------------------------------------\n",
      "Battery    |   261 |    87 | 348 | 0.3333333333333333\n",
      "Clothing   |   676 |   225 | 901 | 0.3328402366863905\n",
      "Glass      |  1169 |   389 | 1558 | 0.33276304533789564\n",
      "Metal      |  1669 |   556 | 2225 | 0.3331336129418814\n",
      "Paper      |  6895 |  2298 | 9193 | 0.33328498912255256\n",
      "Paperpack  |  1458 |   486 | 1944 | 0.3333333333333333\n",
      "Plastic    |  3793 |  1264 | 5057 | 0.33324545214869494\n",
      "Plasticbag |  6970 |  2323 | 9293 | 0.3332855093256815\n",
      "Styrofoam  |  1560 |   520 | 2080 | 0.3333333333333333\n"
     ]
    }
   ],
   "source": [
    "print(f\"{'Category':10} | train |   val | total | val/train ratio\")\n",
    "print(\"--------------------------------------\")\n",
    "train_all = val_all = 0\n",
    "for category in categories:\n",
    "    src_dir = os.path.join(data_dir, \"train\", category)\n",
    "    train_imgs = glob.glob(os.path.join(src_dir, \"*\"))\n",
    "    src_dir = os.path.join(data_dir, \"val\", category)\n",
    "    val_imgs = glob.glob(os.path.join(src_dir, \"*\"))\n",
    "    print(f\"{category:10} | {len(train_imgs):5} | {len(val_imgs):5} | {len(train_imgs)+len(val_imgs)} | {len(val_imgs)/len(train_imgs)}\")\n",
    "    train_all += len(train_imgs)\n",
    "    val_all += len(val_imgs)"
   ]
  },
  {
   "cell_type": "markdown",
   "id": "e16b5009-c035-4d46-a050-99528f46c76d",
   "metadata": {},
   "source": [
    "Total 대비 각 class의 퍼센티지 확인"
   ]
  },
  {
   "cell_type": "code",
   "execution_count": 75,
   "id": "9a767389-56d6-4539-89e9-cee81b9f225d",
   "metadata": {},
   "outputs": [
    {
     "name": "stdout",
     "output_type": "stream",
     "text": [
      "Category   | train |   val | total \n",
      "--------------------------------------\n",
      "Battery    | 0.801% | 0.267% | 1.07%\n",
      "Clothing   | 2.07% | 0.69% | 2.76%\n",
      "Glass      | 3.59% | 1.19% | 4.78%\n",
      "Metal      | 5.12% | 1.71% | 6.83%\n",
      "Paper      | 21.2% | 7.05% | 28.2%\n",
      "Paperpack  | 4.47% | 1.49% | 5.96%\n",
      "Plastic    | 11.6% | 3.88% | 15.5%\n",
      "Plasticbag | 21.4% | 7.13% | 28.5%\n",
      "Styrofoam  | 4.79% | 1.6% | 6.38%\n",
      "세로로 비교하세요\n"
     ]
    }
   ],
   "source": [
    "print(f\"{'Category':10} | train |   val | total \")\n",
    "print(\"--------------------------------------\")\n",
    "for category in categories:\n",
    "    src_dir = os.path.join(data_dir, \"train\", category)\n",
    "    train_imgs = glob.glob(os.path.join(src_dir, \"*\"))\n",
    "    src_dir = os.path.join(data_dir, \"val\", category)\n",
    "    val_imgs = glob.glob(os.path.join(src_dir, \"*\"))\n",
    "    print(f\"{category:10} | {len(train_imgs)/(train_all+val_all)*100:.3}% | {len(val_imgs)/(train_all+val_all)*100:.3}% | {(len(train_imgs)+len(val_imgs))/(train_all+val_all)*100:.3}%\")\n",
    "print(\"세로로 비교하세요\")"
   ]
  },
  {
   "cell_type": "markdown",
   "id": "5d4ee678-6a79-42a6-9f4a-fff83b97f373",
   "metadata": {},
   "source": [
    "train, val 데이터 모두 train_all로 이동"
   ]
  },
  {
   "cell_type": "code",
   "execution_count": 5,
   "id": "959d0b3c-3865-48ec-ae17-6cec435bfc11",
   "metadata": {},
   "outputs": [],
   "source": [
    "for category in categories:\n",
    "    src_dir = os.path.join(data_dir, \"train\", category)\n",
    "    dst_dir = os.path.join(data_dir, \"train_all\", category)\n",
    "    for jpgfile in glob.iglob(os.path.join(src_dir, \"*\")):\n",
    "        shutil.copy(jpgfile, dst_dir)\n",
    "    src_dir = os.path.join(data_dir, \"val\", category)\n",
    "    dst_dir = os.path.join(data_dir, \"train_all\", category)\n",
    "    for jpgfile in glob.iglob(os.path.join(src_dir, \"*\")):\n",
    "        shutil.copy(jpgfile, dst_dir)"
   ]
  },
  {
   "cell_type": "markdown",
   "id": "055be50a-a290-4800-a574-ffe2c9dbf891",
   "metadata": {
    "tags": []
   },
   "source": [
    "개수 확인(모두 저장되었는지 검증용) - (2)"
   ]
  },
  {
   "cell_type": "code",
   "execution_count": 6,
   "id": "55bf6de8-7965-40c6-b776-3d3bc7a4de71",
   "metadata": {},
   "outputs": [
    {
     "name": "stdout",
     "output_type": "stream",
     "text": [
      "Category   | train_all\n",
      "---------------------------\n",
      "Battery    |   348\n",
      "Clothing   |   901\n",
      "Glass      |  1558\n",
      "Metal      |  2225\n",
      "Paper      |  9193\n",
      "Paperpack  |  1944\n",
      "Plastic    |  5057\n",
      "Plasticbag |  9293\n",
      "Styrofoam  |  2080\n"
     ]
    }
   ],
   "source": [
    "print(f\"{'Category':10} | train_all\")\n",
    "print(\"---------------------------\")\n",
    "for category in categories:\n",
    "    src_dir = os.path.join(data_dir, \"train_all\", category)\n",
    "    imgs = glob.glob(os.path.join(src_dir, \"*\"))\n",
    "    print(f\"{category:10} | {len(imgs):5}\")"
   ]
  },
  {
   "cell_type": "markdown",
   "id": "357e5253-aa01-482d-9960-233c138832a5",
   "metadata": {},
   "source": [
    "## 몇개로 나눌 것인가\n",
    "- 가장 적은 데이터는 Battery\n",
    "- 따라서 Battery를 기준으로 나눈다.\n",
    "- 따라서 모든 class에 대해 261 / 87 으로 data set을 구성한다."
   ]
  },
  {
   "cell_type": "markdown",
   "id": "3f05cc0c-c2e3-4eee-8f15-5375b3b8868b",
   "metadata": {},
   "source": [
    "저장할 폴더 생성"
   ]
  },
  {
   "cell_type": "code",
   "execution_count": 41,
   "id": "d87fe6aa-9996-4cac-a474-b87c2ba7d540",
   "metadata": {},
   "outputs": [],
   "source": [
    "abs_equal_path = os.path.join(data_dir, \"abs_equal\")\n",
    "\n",
    "os.makedirs(os.path.join(abs_equal_path, \"train\"), exist_ok=True)\n",
    "os.makedirs(os.path.join(abs_equal_path, \"val\"), exist_ok=True)\n",
    "\n",
    "for category in categories:\n",
    "    os.makedirs(os.path.join(os.path.join(abs_equal_path, \"train\"), category), exist_ok=True)\n",
    "    os.makedirs(os.path.join(os.path.join(abs_equal_path, \"val\"), category), exist_ok=True)"
   ]
  },
  {
   "cell_type": "markdown",
   "id": "cad6d9f8-520e-415e-b282-7780bc08aad8",
   "metadata": {},
   "source": [
    "파일 이동"
   ]
  },
  {
   "cell_type": "code",
   "execution_count": 42,
   "id": "7bd8e120-3d71-40bc-8b22-684df0b1136b",
   "metadata": {},
   "outputs": [],
   "source": [
    "for category in categories:\n",
    "    src_dir = os.path.join(data_dir, \"train\", category)\n",
    "    dst_dir = os.path.join(abs_equal_path, \"train\", category)\n",
    "    for jpgfile in list(glob.iglob(os.path.join(src_dir, \"*\")))[:261]:\n",
    "        shutil.copy(jpgfile, dst_dir)\n",
    "    cnt = 0\n",
    "    src_dir = os.path.join(data_dir, \"val\", category)\n",
    "    dst_dir = os.path.join(abs_equal_path, \"val\", category)\n",
    "    for jpgfile in list(glob.iglob(os.path.join(src_dir, \"*\")))[:87]:\n",
    "        shutil.copy(jpgfile, dst_dir)"
   ]
  },
  {
   "cell_type": "markdown",
   "id": "6660e83a-f6b2-42c8-bd2d-bf57dbf81c6b",
   "metadata": {},
   "source": [
    "개수 확인"
   ]
  },
  {
   "cell_type": "code",
   "execution_count": 77,
   "id": "3a77f579-d7e7-4652-8030-a0ea1758899d",
   "metadata": {},
   "outputs": [
    {
     "name": "stdout",
     "output_type": "stream",
     "text": [
      "Category   | train |   val | total | val/train ratio\n",
      "--------------------------------------\n",
      "Battery    |   261 |    87 | 348 | 0.3333333333333333\n",
      "Clothing   |   261 |    87 | 348 | 0.3333333333333333\n",
      "Glass      |   261 |    87 | 348 | 0.3333333333333333\n",
      "Metal      |   261 |    87 | 348 | 0.3333333333333333\n",
      "Paper      |   261 |    87 | 348 | 0.3333333333333333\n",
      "Paperpack  |   261 |    87 | 348 | 0.3333333333333333\n",
      "Plastic    |   261 |    87 | 348 | 0.3333333333333333\n",
      "Plasticbag |   261 |    87 | 348 | 0.3333333333333333\n",
      "Styrofoam  |   261 |    87 | 348 | 0.3333333333333333\n"
     ]
    }
   ],
   "source": [
    "print(f\"{'Category':10} | train |   val | total | val/train ratio\")\n",
    "print(\"--------------------------------------\")\n",
    "for category in categories:\n",
    "    src_dir = os.path.join(abs_equal_path, \"train\", category)\n",
    "    train_imgs = glob.glob(os.path.join(src_dir, \"*\"))\n",
    "    src_dir = os.path.join(abs_equal_path, \"val\", category)\n",
    "    val_imgs = glob.glob(os.path.join(src_dir, \"*\"))\n",
    "    print(f\"{category:10} | {len(train_imgs):5} | {len(val_imgs):5} | {len(train_imgs)+len(val_imgs)} | {len(val_imgs)/len(train_imgs)}\")"
   ]
  },
  {
   "cell_type": "code",
   "execution_count": null,
   "id": "170a8c86-7ff8-4109-bfcc-3903129d76e1",
   "metadata": {},
   "outputs": [],
   "source": []
  }
 ],
 "metadata": {
  "kernelspec": {
   "display_name": "Python 3",
   "language": "python",
   "name": "python3"
  },
  "language_info": {
   "codemirror_mode": {
    "name": "ipython",
    "version": 3
   },
   "file_extension": ".py",
   "mimetype": "text/x-python",
   "name": "python",
   "nbconvert_exporter": "python",
   "pygments_lexer": "ipython3",
   "version": "3.8.5"
  }
 },
 "nbformat": 4,
 "nbformat_minor": 5
}
