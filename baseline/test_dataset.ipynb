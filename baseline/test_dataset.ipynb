{
 "cells": [
  {
   "cell_type": "markdown",
   "id": "07c11081-6774-480a-94b5-d003a3ae267e",
   "metadata": {},
   "source": [
    "# Compare dataset\n",
    "- `Model` ResNet34\n",
    "- `Image size` 224x224\n",
    "- `Epoch` 50\n",
    "- `Batch size` 64\n",
    "\n",
    "|dataset|best val f1-score|best val accuracy|\n",
    "|--|--|--|\n",
    "|taco|\n",
    "|kaggle|\n",
    "|taco+kaggle|"
   ]
  },
  {
   "cell_type": "code",
   "execution_count": 15,
   "id": "9405cb5f-c968-40b3-8514-4d8cb3be85bd",
   "metadata": {},
   "outputs": [],
   "source": [
    "import torch\n",
    "import torch.nn as nn\n",
    "import torchvision.models\n",
    "from sklearn.metrics import f1_score\n",
    "\n",
    "import sys\n",
    "import os.path as p\n",
    "import yaml\n",
    "import glob\n",
    "import time\n",
    "from tqdm import tqdm"
   ]
  },
  {
   "cell_type": "code",
   "execution_count": 2,
   "id": "f6b75a7d-5e28-4092-afef-5f6f1b01f8ae",
   "metadata": {},
   "outputs": [],
   "source": [
    "ROOT_PATH = \"/opt/ml/\"\n",
    "BASE_PATH = p.join(ROOT_PATH, \"p4-opt-5-vibrhanium-/baseline\")\n",
    "\n",
    "device = torch.device(\"cuda\" if torch.cuda.is_available() else \"cpu\")\n",
    "\n",
    "sys.path.append(BASE_PATH)\n",
    "\n",
    "from src.utils.common import read_yaml\n",
    "from src.utils.macs import calc_macs\n",
    "from src.utils.common import get_label_counts\n",
    "from src.dataloader import create_dataloader\n",
    "from src.trainer import TorchTrainer\n",
    "from src.loss import CustomCriterion"
   ]
  },
  {
   "cell_type": "code",
   "execution_count": 3,
   "id": "388fcafb-e79e-454e-98d1-740769f0f011",
   "metadata": {},
   "outputs": [],
   "source": [
    "import os.path as p\n",
    "import time\n",
    "from tqdm import tqdm\n",
    "import torch\n",
    "import torchvision\n",
    "from sklearn.metrics import f1_score\n",
    "from src.utils.common import read_yaml\n",
    "from src.utils.macs import calc_macs\n",
    "ROOT_PATH = \"/opt/ml/\"\n",
    "BASE_PATH = p.join(ROOT_PATH, \"p4-opt-5-vibrhanium-/baseline\")\n",
    "DATA_CONFIG_PATH = p.join(BASE_PATH, \"configs/data/kaggle.yaml\")\n",
    "data_config = read_yaml(cfg=DATA_CONFIG_PATH)\n",
    "device = torch.device(\"cuda\" if torch.cuda.is_available() else \"cpu\")\n",
    "scaler = (\n",
    "    torch.cuda.amp.GradScaler()\n",
    "    if data_config[\"FP16\"] and device != torch.device(\"cpu\")\n",
    "    else None\n",
    ")\n",
    "# scaler = None\n",
    "# -- MACs, Parameter 수를 체크하는 함수\n",
    "def check_spec(model):\n",
    "    # MAC 계산\n",
    "    macs = calc_macs(model, (3, 224, 224))\n",
    "    # Parameter 수 계산\n",
    "    num_parameters = sum(p.numel() for p in model.parameters())\n",
    "    return macs, num_parameters\n",
    "def _get_len_label_from_dataset(dataset) -> int:\n",
    "    \"\"\"Get length of label from dataset.\n",
    "    Args:\n",
    "        dataset: torch dataset\n",
    "    Returns:\n",
    "        A number of label in set.\n",
    "    \"\"\"\n",
    "    if isinstance(dataset, torchvision.datasets.ImageFolder) or isinstance(\n",
    "        dataset, torchvision.datasets.vision.VisionDataset\n",
    "    ):\n",
    "        return len(dataset.classes)\n",
    "    elif isinstance(dataset, torch.utils.data.Subset):\n",
    "        return _get_len_label_from_dataset(dataset.dataset)\n",
    "    else:\n",
    "        raise NotImplementedError\n",
    "# -- evaluation을 수행하는 함수.\n",
    "@torch.no_grad()\n",
    "def evaluate(model, dataloader):\n",
    "    model.eval()\n",
    "    start_time = time.time()\n",
    "    preds = []\n",
    "    gt = []\n",
    "    correct = 0\n",
    "    total = 0\n",
    "    num_classes = _get_len_label_from_dataset(dataloader.dataset)\n",
    "    label_list = [i for i in range(num_classes)]\n",
    "    pbar = tqdm(enumerate(dataloader), total=len(dataloader))\n",
    "    for batch, (data, labels) in pbar:\n",
    "        data, labels = data.to(device), labels.to(device)\n",
    "        if scaler:\n",
    "            with torch.cuda.amp.autocast():\n",
    "                outputs = model(data)\n",
    "        else:\n",
    "            outputs = model(data)\n",
    "        outputs = torch.squeeze(outputs)\n",
    "        _, pred = torch.max(outputs, 1)\n",
    "        total += labels.size(0)\n",
    "        correct += (pred == labels).sum().item()\n",
    "        preds += pred.to(\"cpu\").tolist()\n",
    "        gt += labels.to(\"cpu\").tolist()\n",
    "        pbar.update()\n",
    "        pbar.set_description(\n",
    "            f\"Acc: {(correct / total) * 100:.2f}% \"\n",
    "            f\"F1(macro): {f1_score(y_true=gt, y_pred=preds, labels=label_list, average='macro', zero_division=0):.2f}\"\n",
    "        )\n",
    "    consumed_time = time.time() - start_time\n",
    "    accuracy = correct / total\n",
    "    f1 = f1_score(\n",
    "        y_true=gt, y_pred=preds, labels=label_list, average=\"macro\", zero_division=0\n",
    "    )\n",
    "    return f1, accuracy, consumed_time\n",
    "def print_spec(consumed_time, macs, num_parameters, f1, accuracy):\n",
    "    print(f\"Inference time: {consumed_time:.3f}s\")\n",
    "    print(f\"MAC score: {int(macs)}\")\n",
    "    print(f\"Parameter num: {int(num_parameters)}\")\n",
    "    print()\n",
    "    print(f\"F1 score: {f1:.3f} | Accuracy: {accuracy:.3f}\")"
   ]
  },
  {
   "cell_type": "markdown",
   "id": "16eb6f84-463c-4f40-bdde-c560ab6dbba7",
   "metadata": {},
   "source": [
    "### 1-1-1. TACO - All Data, Battery 제외"
   ]
  },
  {
   "cell_type": "markdown",
   "id": "b632a23b-f648-4bb0-82f0-0015bccdc791",
   "metadata": {},
   "source": [
    "**1) Model**\n",
    "\n",
    "`epoch` 50"
   ]
  },
  {
   "cell_type": "code",
   "execution_count": 41,
   "id": "70b4286b-285c-4062-b49c-ef1ee039db6b",
   "metadata": {},
   "outputs": [
    {
     "name": "stdout",
     "output_type": "stream",
     "text": [
      "Done.\n"
     ]
    }
   ],
   "source": [
    "MODEL_PATH = p.join(ROOT_PATH, \"input/exp/Resnet34/Resnet34_kaggle_50_0619_1301.pt\")\n",
    "num_classes = 4\n",
    "\n",
    "model = torchvision.models.resnet34(pretrained=True)\n",
    "model.fc = nn.Linear(512, num_classes) # 마지막 layer\n",
    "model.to(device)\n",
    "model.load_state_dict(torch.load(MODEL_PATH)) # 기존 weight 불러옴\n",
    "# model\n",
    "print(\"Done.\")"
   ]
  },
  {
   "cell_type": "markdown",
   "id": "584cac48-e28f-4f5b-96f5-96f99dbe28f4",
   "metadata": {},
   "source": [
    "**2) Dataset**"
   ]
  },
  {
   "cell_type": "code",
   "execution_count": 42,
   "id": "a9fa147a-c4a9-48e6-b4fb-5b44ddaf77d7",
   "metadata": {},
   "outputs": [],
   "source": [
    "DATA_CONFIG_PATH = p.join(BASE_PATH, \"configs/data/kaggle.yaml\")\n",
    "DATA_PATH = p.join(ROOT_PATH, \"input/data_kaggle/val\")\n",
    "\n",
    "data_config = read_yaml(cfg=DATA_CONFIG_PATH)\n",
    "# scaler = torch.cuda.amp.GradScaler() if data_config[\"FP16\"] and device != torch.device(\"cpu\") else None\n",
    "scaler = None\n",
    "train_dl, val_dl, _ = create_dataloader(config=data_config)"
   ]
  },
  {
   "cell_type": "code",
   "execution_count": 43,
   "id": "24876a43-de20-4839-bca0-9f8a58bf025c",
   "metadata": {},
   "outputs": [
    {
     "name": "stdout",
     "output_type": "stream",
     "text": [
      "Validation datat from /opt/ml/input/data_kaggle/val\n",
      "Category   | num\n",
      "----------------------\n",
      "Glass      |    50\n",
      "Metal      |    41\n",
      "Paper      |    40\n",
      "Plastic    |    48\n",
      "TOTAL      |   179\n"
     ]
    }
   ],
   "source": [
    "print(f\"Validation datat from {DATA_PATH}\")\n",
    "print(f\"{'Category':10} | num\")\n",
    "print(\"----------------------\")\n",
    "\n",
    "total = 0\n",
    "categories = [\"Glass\", \"Metal\", \"Paper\", \"Plastic\"]\n",
    "for category in categories:\n",
    "    src_dir = p.join(DATA_PATH, category)\n",
    "    imgs = glob.glob(p.join(src_dir, \"*\"))\n",
    "    total += len(imgs)\n",
    "\n",
    "    print(f\"{category:10} | {len(imgs):5}\")\n",
    "print(f\"{'TOTAL':11}| {total:5}\")"
   ]
  },
  {
   "cell_type": "code",
   "execution_count": 44,
   "id": "6c1b3622-c52b-4e2c-97fa-11f3790ef702",
   "metadata": {},
   "outputs": [
    {
     "name": "stderr",
     "output_type": "stream",
     "text": [
      "Acc: 59.78% F1(macro): 0.26: 100%|██████████| 3/3 [00:02<00:00,  1.21it/s]"
     ]
    },
    {
     "name": "stdout",
     "output_type": "stream",
     "text": [
      "model: /opt/ml/input/exp/Resnet34/Resnet34_kaggle_50_0619_1301.pt validation data: /opt/ml/p4-opt-5-vibrhanium-/baseline/configs/data/kaggle.yaml\n",
      "Inference 시간: 3.680s\n",
      "MAC score: 3671555588\n",
      "Parameter 수: 21286724\n",
      "\n",
      "F1 score: 0.259 | Accuracy: 0.598\n"
     ]
    },
    {
     "name": "stderr",
     "output_type": "stream",
     "text": [
      "\n"
     ]
    }
   ],
   "source": [
    "bf_macs, bf_num_parameters = check_spec(model)\n",
    "bf_f1, bf_accuracy, bf_consumed_time = evaluate(model=model, dataloader=val_dl)\n",
    "print(f\"model: {MODEL_PATH} validation data: {DATA_CONFIG_PATH}\")\n",
    "print_spec(bf_consumed_time, bf_macs, bf_num_parameters, bf_f1, bf_accuracy)"
   ]
  },
  {
   "cell_type": "markdown",
   "id": "14038c69-3008-47e1-b166-00d1f7dff8a5",
   "metadata": {},
   "source": [
    "### 1-2-1. TACO - Sample Data"
   ]
  },
  {
   "cell_type": "markdown",
   "id": "9b7063db-1fe2-433a-a13e-5e516dedaffb",
   "metadata": {},
   "source": [
    "**1) Model**\n",
    "\n",
    "`epoch` 50"
   ]
  },
  {
   "cell_type": "code",
   "execution_count": 30,
   "id": "1046681f-79a5-460e-b4df-0d438a3519c3",
   "metadata": {},
   "outputs": [
    {
     "name": "stdout",
     "output_type": "stream",
     "text": [
      "Done.\n"
     ]
    }
   ],
   "source": [
    "MODEL_PATH = p.join(ROOT_PATH, \"input/exp/Resnet34/Resnet34_taco_sample.pt\")\n",
    "num_classes = 9\n",
    "\n",
    "model = torchvision.models.resnet34(pretrained=True)\n",
    "model.fc = nn.Linear(512, num_classes)\n",
    "model.to(device)\n",
    "model.load_state_dict(torch.load(MODEL_PATH))\n",
    "# model\n",
    "print(\"Done.\")"
   ]
  },
  {
   "cell_type": "code",
   "execution_count": 35,
   "id": "b97115df-b5cb-4707-b0b7-398169f4aa64",
   "metadata": {},
   "outputs": [
    {
     "name": "stdout",
     "output_type": "stream",
     "text": [
      "Validation datat from /opt/ml/input/data_kaggle/val\n",
      "Category   | num\n",
      "----------------------\n",
      "Battery    |     0\n",
      "Clothing   |     0\n",
      "Glass      |    50\n",
      "Metal      |    41\n",
      "Paper      |    40\n",
      "Paperpack  |     0\n",
      "Plastic    |    48\n",
      "Plasticbag |     0\n",
      "Styrofoam  |     0\n",
      "TOTAL      |   179\n"
     ]
    }
   ],
   "source": [
    "print(f\"Validation datat from {DATA_PATH}\")\n",
    "print(f\"{'Category':10} | num\")\n",
    "print(\"----------------------\")\n",
    "\n",
    "total = 0\n",
    "categories = [\"Battery\", \"Clothing\", \"Glass\", \"Metal\", \"Paper\", \"Paperpack\", \"Plastic\", \"Plasticbag\", \"Styrofoam\"]\n",
    "for category in categories:\n",
    "    src_dir = p.join(DATA_PATH, category)\n",
    "    imgs = glob.glob(p.join(src_dir, \"*\"))\n",
    "    total += len(imgs)\n",
    "\n",
    "    print(f\"{category:10} | {len(imgs):5}\")\n",
    "print(f\"{'TOTAL':11}| {total:5}\")"
   ]
  },
  {
   "cell_type": "markdown",
   "id": "9c882754-201d-4dc8-81cf-af4cb1ed3386",
   "metadata": {},
   "source": [
    "**2) Dataset**"
   ]
  },
  {
   "cell_type": "code",
   "execution_count": 20,
   "id": "9ebe8027-4a01-47c0-abf2-a6de2c52f448",
   "metadata": {},
   "outputs": [],
   "source": [
    "DATA_CONFIG_PATH = p.join(BASE_PATH, \"configs/data/taco_sample.yaml\")\n",
    "DATA_PATH = p.join(ROOT_PATH, \"input/data_sample/val\")\n",
    "\n",
    "data_config = read_yaml(cfg=DATA_CONFIG_PATH)\n",
    "# scaler = torch.cuda.amp.GradScaler() if data_config[\"FP16\"] and device != torch.device(\"cpu\") else None\n",
    "scaler = None\n",
    "train_dl, val_dl, _ = create_dataloader(config=data_config)"
   ]
  },
  {
   "cell_type": "code",
   "execution_count": 21,
   "id": "d9fc6a00-11cc-458f-bfe5-a451cf08f15a",
   "metadata": {},
   "outputs": [
    {
     "name": "stdout",
     "output_type": "stream",
     "text": [
      "Validation datat from /opt/ml/input/sample_data/val\n",
      "Category   | num\n",
      "----------------------\n",
      "Battery    |    78\n",
      "Clothing   |   202\n",
      "Glass      |   300\n",
      "Metal      |   300\n",
      "Paper      |   300\n",
      "Paperpack  |   300\n",
      "Plastic    |   300\n",
      "Plasticbag |   300\n",
      "Styrofoam  |   300\n",
      "TOTAL      |  2380\n"
     ]
    }
   ],
   "source": [
    "print(f\"Validation datat from {DATA_PATH}\")\n",
    "print(f\"{'Category':10} | num\")\n",
    "print(\"----------------------\")\n",
    "\n",
    "total = 0\n",
    "categories = [\"Battery\", \"Clothing\", \"Glass\", \"Metal\", \"Paper\", \"Paperpack\", \"Plastic\", \"Plasticbag\", \"Styrofoam\"]\n",
    "for category in categories:\n",
    "    src_dir = p.join(DATA_PATH, category)\n",
    "    imgs = glob.glob(p.join(src_dir, \"*\"))\n",
    "    total += len(imgs)\n",
    "\n",
    "    print(f\"{category:10} | {len(imgs):5}\")\n",
    "print(f\"{'TOTAL':11}| {total:5}\")"
   ]
  },
  {
   "cell_type": "markdown",
   "id": "71af2619-0863-4bfb-85c0-5aed1455dab4",
   "metadata": {},
   "source": [
    "**3) Check spec**"
   ]
  },
  {
   "cell_type": "code",
   "execution_count": 18,
   "id": "3f64ae8d-67f8-4d5c-ad5a-e4eb5b2e57e0",
   "metadata": {},
   "outputs": [
    {
     "name": "stdout",
     "output_type": "stream",
     "text": [
      "Warning: variables __flops__ or __params__ are already defined for the moduleConv2d ptflops can affect your code!\n",
      "Warning: variables __flops__ or __params__ are already defined for the moduleBatchNorm2d ptflops can affect your code!\n",
      "Warning: variables __flops__ or __params__ are already defined for the moduleReLU ptflops can affect your code!\n",
      "Warning: variables __flops__ or __params__ are already defined for the moduleMaxPool2d ptflops can affect your code!\n",
      "Warning: variables __flops__ or __params__ are already defined for the moduleConv2d ptflops can affect your code!\n",
      "Warning: variables __flops__ or __params__ are already defined for the moduleBatchNorm2d ptflops can affect your code!\n",
      "Warning: variables __flops__ or __params__ are already defined for the moduleReLU ptflops can affect your code!\n",
      "Warning: variables __flops__ or __params__ are already defined for the moduleConv2d ptflops can affect your code!\n",
      "Warning: variables __flops__ or __params__ are already defined for the moduleBatchNorm2d ptflops can affect your code!\n",
      "Warning: variables __flops__ or __params__ are already defined for the moduleConv2d ptflops can affect your code!\n",
      "Warning: variables __flops__ or __params__ are already defined for the moduleBatchNorm2d ptflops can affect your code!\n",
      "Warning: variables __flops__ or __params__ are already defined for the moduleReLU ptflops can affect your code!\n",
      "Warning: variables __flops__ or __params__ are already defined for the moduleConv2d ptflops can affect your code!\n",
      "Warning: variables __flops__ or __params__ are already defined for the moduleBatchNorm2d ptflops can affect your code!\n",
      "Warning: variables __flops__ or __params__ are already defined for the moduleConv2d ptflops can affect your code!\n",
      "Warning: variables __flops__ or __params__ are already defined for the moduleBatchNorm2d ptflops can affect your code!\n",
      "Warning: variables __flops__ or __params__ are already defined for the moduleReLU ptflops can affect your code!\n",
      "Warning: variables __flops__ or __params__ are already defined for the moduleConv2d ptflops can affect your code!\n",
      "Warning: variables __flops__ or __params__ are already defined for the moduleBatchNorm2d ptflops can affect your code!\n",
      "Warning: variables __flops__ or __params__ are already defined for the moduleConv2d ptflops can affect your code!\n",
      "Warning: variables __flops__ or __params__ are already defined for the moduleBatchNorm2d ptflops can affect your code!\n",
      "Warning: variables __flops__ or __params__ are already defined for the moduleReLU ptflops can affect your code!\n",
      "Warning: variables __flops__ or __params__ are already defined for the moduleConv2d ptflops can affect your code!\n",
      "Warning: variables __flops__ or __params__ are already defined for the moduleBatchNorm2d ptflops can affect your code!\n",
      "Warning: variables __flops__ or __params__ are already defined for the moduleConv2d ptflops can affect your code!\n",
      "Warning: variables __flops__ or __params__ are already defined for the moduleBatchNorm2d ptflops can affect your code!\n",
      "Warning: variables __flops__ or __params__ are already defined for the moduleConv2d ptflops can affect your code!\n",
      "Warning: variables __flops__ or __params__ are already defined for the moduleBatchNorm2d ptflops can affect your code!\n",
      "Warning: variables __flops__ or __params__ are already defined for the moduleReLU ptflops can affect your code!\n",
      "Warning: variables __flops__ or __params__ are already defined for the moduleConv2d ptflops can affect your code!\n",
      "Warning: variables __flops__ or __params__ are already defined for the moduleBatchNorm2d ptflops can affect your code!\n",
      "Warning: variables __flops__ or __params__ are already defined for the moduleConv2d ptflops can affect your code!\n",
      "Warning: variables __flops__ or __params__ are already defined for the moduleBatchNorm2d ptflops can affect your code!\n",
      "Warning: variables __flops__ or __params__ are already defined for the moduleReLU ptflops can affect your code!\n",
      "Warning: variables __flops__ or __params__ are already defined for the moduleConv2d ptflops can affect your code!\n",
      "Warning: variables __flops__ or __params__ are already defined for the moduleBatchNorm2d ptflops can affect your code!\n",
      "Warning: variables __flops__ or __params__ are already defined for the moduleConv2d ptflops can affect your code!\n",
      "Warning: variables __flops__ or __params__ are already defined for the moduleBatchNorm2d ptflops can affect your code!\n",
      "Warning: variables __flops__ or __params__ are already defined for the moduleReLU ptflops can affect your code!\n",
      "Warning: variables __flops__ or __params__ are already defined for the moduleConv2d ptflops can affect your code!\n",
      "Warning: variables __flops__ or __params__ are already defined for the moduleBatchNorm2d ptflops can affect your code!\n",
      "Warning: variables __flops__ or __params__ are already defined for the moduleConv2d ptflops can affect your code!\n",
      "Warning: variables __flops__ or __params__ are already defined for the moduleBatchNorm2d ptflops can affect your code!\n",
      "Warning: variables __flops__ or __params__ are already defined for the moduleReLU ptflops can affect your code!\n",
      "Warning: variables __flops__ or __params__ are already defined for the moduleConv2d ptflops can affect your code!\n",
      "Warning: variables __flops__ or __params__ are already defined for the moduleBatchNorm2d ptflops can affect your code!\n",
      "Warning: variables __flops__ or __params__ are already defined for the moduleConv2d ptflops can affect your code!\n",
      "Warning: variables __flops__ or __params__ are already defined for the moduleBatchNorm2d ptflops can affect your code!\n",
      "Warning: variables __flops__ or __params__ are already defined for the moduleConv2d ptflops can affect your code!\n",
      "Warning: variables __flops__ or __params__ are already defined for the moduleBatchNorm2d ptflops can affect your code!\n",
      "Warning: variables __flops__ or __params__ are already defined for the moduleReLU ptflops can affect your code!\n",
      "Warning: variables __flops__ or __params__ are already defined for the moduleConv2d ptflops can affect your code!\n",
      "Warning: variables __flops__ or __params__ are already defined for the moduleBatchNorm2d ptflops can affect your code!\n",
      "Warning: variables __flops__ or __params__ are already defined for the moduleConv2d ptflops can affect your code!\n",
      "Warning: variables __flops__ or __params__ are already defined for the moduleBatchNorm2d ptflops can affect your code!\n",
      "Warning: variables __flops__ or __params__ are already defined for the moduleReLU ptflops can affect your code!\n",
      "Warning: variables __flops__ or __params__ are already defined for the moduleConv2d ptflops can affect your code!\n",
      "Warning: variables __flops__ or __params__ are already defined for the moduleBatchNorm2d ptflops can affect your code!\n",
      "Warning: variables __flops__ or __params__ are already defined for the moduleConv2d ptflops can affect your code!\n",
      "Warning: variables __flops__ or __params__ are already defined for the moduleBatchNorm2d ptflops can affect your code!\n",
      "Warning: variables __flops__ or __params__ are already defined for the moduleReLU ptflops can affect your code!\n",
      "Warning: variables __flops__ or __params__ are already defined for the moduleConv2d ptflops can affect your code!\n",
      "Warning: variables __flops__ or __params__ are already defined for the moduleBatchNorm2d ptflops can affect your code!\n",
      "Warning: variables __flops__ or __params__ are already defined for the moduleConv2d ptflops can affect your code!\n",
      "Warning: variables __flops__ or __params__ are already defined for the moduleBatchNorm2d ptflops can affect your code!\n",
      "Warning: variables __flops__ or __params__ are already defined for the moduleReLU ptflops can affect your code!\n",
      "Warning: variables __flops__ or __params__ are already defined for the moduleConv2d ptflops can affect your code!\n",
      "Warning: variables __flops__ or __params__ are already defined for the moduleBatchNorm2d ptflops can affect your code!\n",
      "Warning: variables __flops__ or __params__ are already defined for the moduleConv2d ptflops can affect your code!\n",
      "Warning: variables __flops__ or __params__ are already defined for the moduleBatchNorm2d ptflops can affect your code!\n",
      "Warning: variables __flops__ or __params__ are already defined for the moduleReLU ptflops can affect your code!\n",
      "Warning: variables __flops__ or __params__ are already defined for the moduleConv2d ptflops can affect your code!\n",
      "Warning: variables __flops__ or __params__ are already defined for the moduleBatchNorm2d ptflops can affect your code!\n",
      "Warning: variables __flops__ or __params__ are already defined for the moduleConv2d ptflops can affect your code!\n",
      "Warning: variables __flops__ or __params__ are already defined for the moduleBatchNorm2d ptflops can affect your code!\n",
      "Warning: variables __flops__ or __params__ are already defined for the moduleReLU ptflops can affect your code!\n",
      "Warning: variables __flops__ or __params__ are already defined for the moduleConv2d ptflops can affect your code!\n",
      "Warning: variables __flops__ or __params__ are already defined for the moduleBatchNorm2d ptflops can affect your code!\n",
      "Warning: variables __flops__ or __params__ are already defined for the moduleConv2d ptflops can affect your code!\n",
      "Warning: variables __flops__ or __params__ are already defined for the moduleBatchNorm2d ptflops can affect your code!\n",
      "Warning: variables __flops__ or __params__ are already defined for the moduleConv2d ptflops can affect your code!\n",
      "Warning: variables __flops__ or __params__ are already defined for the moduleBatchNorm2d ptflops can affect your code!\n",
      "Warning: variables __flops__ or __params__ are already defined for the moduleReLU ptflops can affect your code!\n",
      "Warning: variables __flops__ or __params__ are already defined for the moduleConv2d ptflops can affect your code!\n",
      "Warning: variables __flops__ or __params__ are already defined for the moduleBatchNorm2d ptflops can affect your code!\n",
      "Warning: variables __flops__ or __params__ are already defined for the moduleConv2d ptflops can affect your code!\n",
      "Warning: variables __flops__ or __params__ are already defined for the moduleBatchNorm2d ptflops can affect your code!\n",
      "Warning: variables __flops__ or __params__ are already defined for the moduleReLU ptflops can affect your code!\n",
      "Warning: variables __flops__ or __params__ are already defined for the moduleConv2d ptflops can affect your code!\n",
      "Warning: variables __flops__ or __params__ are already defined for the moduleBatchNorm2d ptflops can affect your code!\n",
      "Warning: variables __flops__ or __params__ are already defined for the moduleAdaptiveAvgPool2d ptflops can affect your code!\n",
      "Warning: variables __flops__ or __params__ are already defined for the moduleLinear ptflops can affect your code!\n"
     ]
    },
    {
     "name": "stderr",
     "output_type": "stream",
     "text": [
      "Acc: 43.87% F1(macro): 0.41: 100%|██████████| 38/38 [00:19<00:00,  1.94it/s]"
     ]
    },
    {
     "name": "stdout",
     "output_type": "stream",
     "text": [
      "/opt/ml/input/exp/Resnet34/Resnet34_taco_sample.pt\n",
      "Inference 시간: 19.841s\n",
      "MAC score: 3671558153\n",
      "Parameter 수: 21289289\n",
      "\n",
      "F1 score: 0.412 | Accuracy: 0.439\n"
     ]
    },
    {
     "name": "stderr",
     "output_type": "stream",
     "text": [
      "\n"
     ]
    }
   ],
   "source": [
    "bf_macs, bf_num_parameters = check_spec(model)\n",
    "bf_f1, bf_accuracy, bf_consumed_time = evaluate(model=model, dataloader=val_dl)\n",
    "print(f\"model: {MODEL_PATH} validation data: {DATA_CONFIG_PATH}\")\n",
    "print_spec(bf_consumed_time, bf_macs, bf_num_parameters, bf_f1, bf_accuracy)"
   ]
  },
  {
   "cell_type": "code",
   "execution_count": 31,
   "id": "348747e7-3625-4ae1-9ac9-6b25b4006063",
   "metadata": {},
   "outputs": [],
   "source": [
    "DATA_CONFIG_PATH = p.join(BASE_PATH, \"configs/data/taco.yaml\")\n",
    "DATA_PATH = p.join(ROOT_PATH, \"input/data/val\")\n",
    "\n",
    "data_config = read_yaml(cfg=DATA_CONFIG_PATH)\n",
    "# scaler = torch.cuda.amp.GradScaler() if data_config[\"FP16\"] and device != torch.device(\"cpu\") else None\n",
    "scaler = None\n",
    "train_dl, val_dl, _ = create_dataloader(config=data_config)"
   ]
  },
  {
   "cell_type": "code",
   "execution_count": 32,
   "id": "1e2a9071-be60-445c-8b80-103da9478709",
   "metadata": {},
   "outputs": [
    {
     "name": "stderr",
     "output_type": "stream",
     "text": [
      "Acc: 40.84% F1(macro): 0.35: 100%|██████████| 128/128 [00:52<00:00,  2.46it/s]"
     ]
    },
    {
     "name": "stdout",
     "output_type": "stream",
     "text": [
      "model: /opt/ml/input/exp/Resnet34/Resnet34_taco_sample.pt validation data: /opt/ml/p4-opt-5-vibrhanium-/baseline/configs/data/taco.yaml\n",
      "Inference 시간: 52.482s\n",
      "MAC score: 3671558153\n",
      "Parameter 수: 21289289\n",
      "\n",
      "F1 score: 0.347 | Accuracy: 0.408\n"
     ]
    },
    {
     "name": "stderr",
     "output_type": "stream",
     "text": [
      "\n"
     ]
    }
   ],
   "source": [
    "bf_macs, bf_num_parameters = check_spec(model)\n",
    "bf_f1, bf_accuracy, bf_consumed_time = evaluate(model=model, dataloader=val_dl)\n",
    "print(f\"model: {MODEL_PATH} validation data: {DATA_CONFIG_PATH}\")\n",
    "print_spec(bf_consumed_time, bf_macs, bf_num_parameters, bf_f1, bf_accuracy)"
   ]
  },
  {
   "cell_type": "markdown",
   "id": "0ac14fba-6f1e-4f47-82e1-c42d334dae5f",
   "metadata": {},
   "source": [
    "### TACO - Sample data"
   ]
  },
  {
   "cell_type": "markdown",
   "id": "6f596988-ba17-49fa-846e-e93412aae327",
   "metadata": {},
   "source": [
    "**1) Model**\n",
    "\n",
    "`epoch` 100"
   ]
  },
  {
   "cell_type": "code",
   "execution_count": 19,
   "id": "66a23265-3fd1-431c-bce1-68af6db3c65a",
   "metadata": {},
   "outputs": [
    {
     "name": "stdout",
     "output_type": "stream",
     "text": [
      "Done.\n"
     ]
    }
   ],
   "source": [
    "MODEL_PATH = p.join(ROOT_PATH, \"input/exp/Resnet34/Resnet34_taco_sample_100.pt\")\n",
    "num_classes = 9\n",
    "\n",
    "model = torchvision.models.resnet34(pretrained=True)\n",
    "model.fc = nn.Linear(512, num_classes)\n",
    "model.to(device)\n",
    "model.load_state_dict(torch.load(MODEL_PATH))\n",
    "# model\n",
    "print(\"Done.\")"
   ]
  },
  {
   "cell_type": "markdown",
   "id": "329ef915-1c65-4ae2-bc1d-225630ca3d58",
   "metadata": {},
   "source": [
    "**2) Dataset**"
   ]
  },
  {
   "cell_type": "code",
   "execution_count": 22,
   "id": "d0ba7d6f-fe07-41f8-b112-680cba7fdcac",
   "metadata": {},
   "outputs": [],
   "source": [
    "DATA_CONFIG_PATH = p.join(BASE_PATH, \"configs/data/taco_sample.yaml\")\n",
    "\n",
    "data_config = read_yaml(cfg=DATA_CONFIG_PATH)\n",
    "scaler = torch.cuda.amp.GradScaler() if data_config[\"FP16\"] and device != torch.device(\"cpu\") else None\n",
    "# scaler = None\n",
    "train_dl, val_dl, _ = create_dataloader(config=data_config)"
   ]
  },
  {
   "cell_type": "code",
   "execution_count": 23,
   "id": "50a72148-7a7a-4616-8c90-488da6fe19e6",
   "metadata": {},
   "outputs": [
    {
     "name": "stderr",
     "output_type": "stream",
     "text": [
      "Acc: 45.80% F1(macro): 0.44: 100%|██████████| 38/38 [00:17<00:00,  2.21it/s]\n"
     ]
    },
    {
     "name": "stdout",
     "output_type": "stream",
     "text": [
      "/opt/ml/input/exp/Resnet34/Resnet34_taco_sample_100.pt\n",
      "Inference 시간: 17.606s\n",
      "MAC score: 3671558153\n",
      "Parameter 수: 21289289\n",
      "\n",
      "F1 score: 0.439 | Accuracy: 0.458\n"
     ]
    }
   ],
   "source": [
    "bf_macs, bf_num_parameters = check_spec(model)\n",
    "bf_f1, bf_accuracy, bf_consumed_time = evaluate(model=model, dataloader=val_dl)\n",
    "print(f\"{MODEL_PATH}\")\n",
    "print_spec(bf_consumed_time, bf_macs, bf_num_parameters, bf_f1, bf_accuracy)"
   ]
  },
  {
   "cell_type": "code",
   "execution_count": 26,
   "id": "d0ed7650-72fd-4cd4-88d3-455ea260c3ce",
   "metadata": {},
   "outputs": [],
   "source": [
    "DATA_CONFIG_PATH = p.join(BASE_PATH, \"configs/data/taco.yaml\")\n",
    "\n",
    "data_config = read_yaml(cfg=DATA_CONFIG_PATH)\n",
    "# scaler = torch.cuda.amp.GradScaler() if data_config[\"FP16\"] and device != torch.device(\"cpu\") else None\n",
    "scaler = None\n",
    "train_dl, val_dl, _ = create_dataloader(config=data_config)"
   ]
  },
  {
   "cell_type": "code",
   "execution_count": 27,
   "id": "3638da84-8476-4d94-b1ad-04f2a4d663f6",
   "metadata": {},
   "outputs": [
    {
     "name": "stdout",
     "output_type": "stream",
     "text": [
      "Warning: variables __flops__ or __params__ are already defined for the moduleConv2d ptflops can affect your code!\n",
      "Warning: variables __flops__ or __params__ are already defined for the moduleBatchNorm2d ptflops can affect your code!\n",
      "Warning: variables __flops__ or __params__ are already defined for the moduleReLU ptflops can affect your code!\n",
      "Warning: variables __flops__ or __params__ are already defined for the moduleMaxPool2d ptflops can affect your code!\n",
      "Warning: variables __flops__ or __params__ are already defined for the moduleConv2d ptflops can affect your code!\n",
      "Warning: variables __flops__ or __params__ are already defined for the moduleBatchNorm2d ptflops can affect your code!\n",
      "Warning: variables __flops__ or __params__ are already defined for the moduleReLU ptflops can affect your code!\n",
      "Warning: variables __flops__ or __params__ are already defined for the moduleConv2d ptflops can affect your code!\n",
      "Warning: variables __flops__ or __params__ are already defined for the moduleBatchNorm2d ptflops can affect your code!\n",
      "Warning: variables __flops__ or __params__ are already defined for the moduleConv2d ptflops can affect your code!\n",
      "Warning: variables __flops__ or __params__ are already defined for the moduleBatchNorm2d ptflops can affect your code!\n",
      "Warning: variables __flops__ or __params__ are already defined for the moduleReLU ptflops can affect your code!\n",
      "Warning: variables __flops__ or __params__ are already defined for the moduleConv2d ptflops can affect your code!\n",
      "Warning: variables __flops__ or __params__ are already defined for the moduleBatchNorm2d ptflops can affect your code!\n",
      "Warning: variables __flops__ or __params__ are already defined for the moduleConv2d ptflops can affect your code!\n",
      "Warning: variables __flops__ or __params__ are already defined for the moduleBatchNorm2d ptflops can affect your code!\n",
      "Warning: variables __flops__ or __params__ are already defined for the moduleReLU ptflops can affect your code!\n",
      "Warning: variables __flops__ or __params__ are already defined for the moduleConv2d ptflops can affect your code!\n",
      "Warning: variables __flops__ or __params__ are already defined for the moduleBatchNorm2d ptflops can affect your code!\n",
      "Warning: variables __flops__ or __params__ are already defined for the moduleConv2d ptflops can affect your code!\n",
      "Warning: variables __flops__ or __params__ are already defined for the moduleBatchNorm2d ptflops can affect your code!\n",
      "Warning: variables __flops__ or __params__ are already defined for the moduleReLU ptflops can affect your code!\n",
      "Warning: variables __flops__ or __params__ are already defined for the moduleConv2d ptflops can affect your code!\n",
      "Warning: variables __flops__ or __params__ are already defined for the moduleBatchNorm2d ptflops can affect your code!\n",
      "Warning: variables __flops__ or __params__ are already defined for the moduleConv2d ptflops can affect your code!\n",
      "Warning: variables __flops__ or __params__ are already defined for the moduleBatchNorm2d ptflops can affect your code!\n",
      "Warning: variables __flops__ or __params__ are already defined for the moduleConv2d ptflops can affect your code!\n",
      "Warning: variables __flops__ or __params__ are already defined for the moduleBatchNorm2d ptflops can affect your code!\n",
      "Warning: variables __flops__ or __params__ are already defined for the moduleReLU ptflops can affect your code!\n",
      "Warning: variables __flops__ or __params__ are already defined for the moduleConv2d ptflops can affect your code!\n",
      "Warning: variables __flops__ or __params__ are already defined for the moduleBatchNorm2d ptflops can affect your code!\n",
      "Warning: variables __flops__ or __params__ are already defined for the moduleConv2d ptflops can affect your code!\n",
      "Warning: variables __flops__ or __params__ are already defined for the moduleBatchNorm2d ptflops can affect your code!\n",
      "Warning: variables __flops__ or __params__ are already defined for the moduleReLU ptflops can affect your code!\n",
      "Warning: variables __flops__ or __params__ are already defined for the moduleConv2d ptflops can affect your code!\n",
      "Warning: variables __flops__ or __params__ are already defined for the moduleBatchNorm2d ptflops can affect your code!\n",
      "Warning: variables __flops__ or __params__ are already defined for the moduleConv2d ptflops can affect your code!\n",
      "Warning: variables __flops__ or __params__ are already defined for the moduleBatchNorm2d ptflops can affect your code!\n",
      "Warning: variables __flops__ or __params__ are already defined for the moduleReLU ptflops can affect your code!\n",
      "Warning: variables __flops__ or __params__ are already defined for the moduleConv2d ptflops can affect your code!\n",
      "Warning: variables __flops__ or __params__ are already defined for the moduleBatchNorm2d ptflops can affect your code!\n",
      "Warning: variables __flops__ or __params__ are already defined for the moduleConv2d ptflops can affect your code!\n",
      "Warning: variables __flops__ or __params__ are already defined for the moduleBatchNorm2d ptflops can affect your code!\n",
      "Warning: variables __flops__ or __params__ are already defined for the moduleReLU ptflops can affect your code!\n",
      "Warning: variables __flops__ or __params__ are already defined for the moduleConv2d ptflops can affect your code!\n",
      "Warning: variables __flops__ or __params__ are already defined for the moduleBatchNorm2d ptflops can affect your code!\n",
      "Warning: variables __flops__ or __params__ are already defined for the moduleConv2d ptflops can affect your code!\n",
      "Warning: variables __flops__ or __params__ are already defined for the moduleBatchNorm2d ptflops can affect your code!\n",
      "Warning: variables __flops__ or __params__ are already defined for the moduleConv2d ptflops can affect your code!\n",
      "Warning: variables __flops__ or __params__ are already defined for the moduleBatchNorm2d ptflops can affect your code!\n",
      "Warning: variables __flops__ or __params__ are already defined for the moduleReLU ptflops can affect your code!\n",
      "Warning: variables __flops__ or __params__ are already defined for the moduleConv2d ptflops can affect your code!\n",
      "Warning: variables __flops__ or __params__ are already defined for the moduleBatchNorm2d ptflops can affect your code!\n",
      "Warning: variables __flops__ or __params__ are already defined for the moduleConv2d ptflops can affect your code!\n",
      "Warning: variables __flops__ or __params__ are already defined for the moduleBatchNorm2d ptflops can affect your code!\n",
      "Warning: variables __flops__ or __params__ are already defined for the moduleReLU ptflops can affect your code!\n",
      "Warning: variables __flops__ or __params__ are already defined for the moduleConv2d ptflops can affect your code!\n",
      "Warning: variables __flops__ or __params__ are already defined for the moduleBatchNorm2d ptflops can affect your code!\n",
      "Warning: variables __flops__ or __params__ are already defined for the moduleConv2d ptflops can affect your code!\n",
      "Warning: variables __flops__ or __params__ are already defined for the moduleBatchNorm2d ptflops can affect your code!\n",
      "Warning: variables __flops__ or __params__ are already defined for the moduleReLU ptflops can affect your code!\n",
      "Warning: variables __flops__ or __params__ are already defined for the moduleConv2d ptflops can affect your code!\n",
      "Warning: variables __flops__ or __params__ are already defined for the moduleBatchNorm2d ptflops can affect your code!\n",
      "Warning: variables __flops__ or __params__ are already defined for the moduleConv2d ptflops can affect your code!\n",
      "Warning: variables __flops__ or __params__ are already defined for the moduleBatchNorm2d ptflops can affect your code!\n",
      "Warning: variables __flops__ or __params__ are already defined for the moduleReLU ptflops can affect your code!\n",
      "Warning: variables __flops__ or __params__ are already defined for the moduleConv2d ptflops can affect your code!\n",
      "Warning: variables __flops__ or __params__ are already defined for the moduleBatchNorm2d ptflops can affect your code!\n",
      "Warning: variables __flops__ or __params__ are already defined for the moduleConv2d ptflops can affect your code!\n",
      "Warning: variables __flops__ or __params__ are already defined for the moduleBatchNorm2d ptflops can affect your code!\n",
      "Warning: variables __flops__ or __params__ are already defined for the moduleReLU ptflops can affect your code!\n",
      "Warning: variables __flops__ or __params__ are already defined for the moduleConv2d ptflops can affect your code!\n",
      "Warning: variables __flops__ or __params__ are already defined for the moduleBatchNorm2d ptflops can affect your code!\n",
      "Warning: variables __flops__ or __params__ are already defined for the moduleConv2d ptflops can affect your code!\n",
      "Warning: variables __flops__ or __params__ are already defined for the moduleBatchNorm2d ptflops can affect your code!\n",
      "Warning: variables __flops__ or __params__ are already defined for the moduleReLU ptflops can affect your code!\n",
      "Warning: variables __flops__ or __params__ are already defined for the moduleConv2d ptflops can affect your code!\n",
      "Warning: variables __flops__ or __params__ are already defined for the moduleBatchNorm2d ptflops can affect your code!\n",
      "Warning: variables __flops__ or __params__ are already defined for the moduleConv2d ptflops can affect your code!\n",
      "Warning: variables __flops__ or __params__ are already defined for the moduleBatchNorm2d ptflops can affect your code!\n",
      "Warning: variables __flops__ or __params__ are already defined for the moduleConv2d ptflops can affect your code!\n",
      "Warning: variables __flops__ or __params__ are already defined for the moduleBatchNorm2d ptflops can affect your code!\n",
      "Warning: variables __flops__ or __params__ are already defined for the moduleReLU ptflops can affect your code!\n",
      "Warning: variables __flops__ or __params__ are already defined for the moduleConv2d ptflops can affect your code!\n",
      "Warning: variables __flops__ or __params__ are already defined for the moduleBatchNorm2d ptflops can affect your code!\n",
      "Warning: variables __flops__ or __params__ are already defined for the moduleConv2d ptflops can affect your code!\n",
      "Warning: variables __flops__ or __params__ are already defined for the moduleBatchNorm2d ptflops can affect your code!\n",
      "Warning: variables __flops__ or __params__ are already defined for the moduleReLU ptflops can affect your code!\n",
      "Warning: variables __flops__ or __params__ are already defined for the moduleConv2d ptflops can affect your code!\n",
      "Warning: variables __flops__ or __params__ are already defined for the moduleBatchNorm2d ptflops can affect your code!\n",
      "Warning: variables __flops__ or __params__ are already defined for the moduleAdaptiveAvgPool2d ptflops can affect your code!\n",
      "Warning: variables __flops__ or __params__ are already defined for the moduleLinear ptflops can affect your code!\n"
     ]
    },
    {
     "name": "stderr",
     "output_type": "stream",
     "text": [
      "Acc: 44.69% F1(macro): 0.37: 100%|██████████| 128/128 [00:57<00:00,  2.23it/s]"
     ]
    },
    {
     "name": "stdout",
     "output_type": "stream",
     "text": [
      "/opt/ml/input/exp/Resnet34/Resnet34_taco_sample_100.pt\n",
      "Inference 시간: 57.799s\n",
      "MAC score: 3671558153\n",
      "Parameter 수: 21289289\n",
      "\n",
      "F1 score: 0.373 | Accuracy: 0.447\n"
     ]
    },
    {
     "name": "stderr",
     "output_type": "stream",
     "text": [
      "\n"
     ]
    }
   ],
   "source": [
    "bf_macs, bf_num_parameters = check_spec(model)\n",
    "bf_f1, bf_accuracy, bf_consumed_time = evaluate(model=model, dataloader=val_dl)\n",
    "print(f\"{MODEL_PATH}\")\n",
    "print_spec(bf_consumed_time, bf_macs, bf_num_parameters, bf_f1, bf_accuracy)"
   ]
  },
  {
   "cell_type": "code",
   "execution_count": null,
   "id": "eb1ba67a-f99f-4ad6-8a7a-0553bb5e6d8a",
   "metadata": {},
   "outputs": [],
   "source": []
  }
 ],
 "metadata": {
  "kernelspec": {
   "display_name": "Python 3",
   "language": "python",
   "name": "python3"
  },
  "language_info": {
   "codemirror_mode": {
    "name": "ipython",
    "version": 3
   },
   "file_extension": ".py",
   "mimetype": "text/x-python",
   "name": "python",
   "nbconvert_exporter": "python",
   "pygments_lexer": "ipython3",
   "version": "3.8.5"
  }
 },
 "nbformat": 4,
 "nbformat_minor": 5
}
