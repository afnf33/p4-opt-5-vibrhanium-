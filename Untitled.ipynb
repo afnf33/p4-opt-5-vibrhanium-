{
 "cells": [
  {
   "cell_type": "code",
   "execution_count": 1,
   "id": "e7eca1a3-94fc-4262-a065-e6adb2bae107",
   "metadata": {},
   "outputs": [],
   "source": [
    "import zipfile\n",
    "\n",
    "fantasy_zip = zipfile.ZipFile('/opt/ml/input/data_kaggle_temp.zip')\n",
    "fantasy_zip.extractall('/opt/ml/input/data_kaggle_temp/')\n",
    "\n",
    "fantasy_zip.close()"
   ]
  },
  {
   "cell_type": "code",
   "execution_count": null,
   "id": "8fca0442-621f-4ea0-98cf-7b331d7ba5df",
   "metadata": {},
   "outputs": [],
   "source": []
  }
 ],
 "metadata": {
  "kernelspec": {
   "display_name": "Python 3",
   "language": "python",
   "name": "python3"
  },
  "language_info": {
   "codemirror_mode": {
    "name": "ipython",
    "version": 3
   },
   "file_extension": ".py",
   "mimetype": "text/x-python",
   "name": "python",
   "nbconvert_exporter": "python",
   "pygments_lexer": "ipython3",
   "version": "3.8.5"
  }
 },
 "nbformat": 4,
 "nbformat_minor": 5
}
