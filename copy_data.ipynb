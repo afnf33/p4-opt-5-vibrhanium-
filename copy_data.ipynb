{
 "cells": [
  {
   "cell_type": "markdown",
   "id": "5adbef56-0263-4586-8719-6df158c97096",
   "metadata": {},
   "source": [
    "### Setting"
   ]
  },
  {
   "cell_type": "code",
   "execution_count": 1,
   "id": "0f7c1fc0-cfd1-4fef-ae5e-ed7086da2e46",
   "metadata": {},
   "outputs": [],
   "source": [
    "import glob\n",
    "import shutil\n",
    "import os\n",
    "import random\n",
    "\n",
    "input_dir = \"/opt/ml/input\"\n",
    "data_dir = os.path.join(input_dir, \"data_kaggle_temp\")\n",
    "sample_dir = os.path.join(input_dir, \"data_kaggle\")\n",
    "\n",
    "categories = [\"Glass\", \"Metal\", \"Paper\", \"Plastic\"]"
   ]
  },
  {
   "cell_type": "code",
   "execution_count": 2,
   "id": "2262c7bd-5798-4ddb-bd41-ab15829dae5f",
   "metadata": {},
   "outputs": [],
   "source": [
    "# mask sample_data directory\n",
    "os.makedirs(sample_dir, exist_ok=True)\n",
    "os.makedirs(os.path.join(sample_dir, \"test\", \"NoLabel\"), exist_ok=True)\n",
    "\n",
    "for category in categories:\n",
    "    os.makedirs(os.path.join(sample_dir, \"train\", category), exist_ok=True)\n",
    "    os.makedirs(os.path.join(sample_dir, \"val\", category), exist_ok=True)"
   ]
  },
  {
   "cell_type": "markdown",
   "id": "0c7d9ba8-cb52-4422-88d7-b07ab57dd12a",
   "metadata": {},
   "source": [
    "### 데이터 개수 확인"
   ]
  },
  {
   "cell_type": "code",
   "execution_count": 3,
   "id": "ee5be5bb-f2ed-4068-bde6-6d09a9edfdbc",
   "metadata": {},
   "outputs": [
    {
     "name": "stdout",
     "output_type": "stream",
     "text": [
      "Category   | train |   val | total\n",
      "--------------------------------------\n",
      "Glass      |   451 |    50 | 501\n",
      "Metal      |   369 |    41 | 410\n",
      "Paper      |   363 |    40 | 403\n",
      "Plastic    |   434 |    48 | 482\n"
     ]
    }
   ],
   "source": [
    "print(f\"{'Category':10} | train |   val | total\")\n",
    "print(\"--------------------------------------\")\n",
    "for category in categories:\n",
    "    src_dir = os.path.join(data_dir, \"train\", category)\n",
    "    train_imgs = glob.glob(os.path.join(src_dir, \"*\"))\n",
    "    \n",
    "    src_dir = os.path.join(data_dir, \"val\", category)\n",
    "    val_imgs = glob.glob(os.path.join(src_dir, \"*\"))\n",
    "\n",
    "    print(f\"{category:10} | {len(train_imgs):5} | {len(val_imgs):5} | {len(train_imgs)+len(val_imgs)}\")"
   ]
  },
  {
   "cell_type": "markdown",
   "id": "e6559b95-72cd-473c-ae62-dcebfddf872b",
   "metadata": {},
   "source": [
    "### 데이터만 복사\n",
    "- `data_dir` -> `sample_dir` 폴더\n",
    "- test data는 'TACO data'의 test data 가져옴, LB 제출용이라 상관 없음"
   ]
  },
  {
   "cell_type": "code",
   "execution_count": 4,
   "id": "b566348c-15bf-4df4-9b6a-68348ff70e15",
   "metadata": {},
   "outputs": [
    {
     "name": "stdout",
     "output_type": "stream",
     "text": [
      "Done.\n"
     ]
    }
   ],
   "source": [
    "# copy test data (all)\n",
    "test_data_dir = os.path.join(input_dir, \"data\")\n",
    "\n",
    "src_dir = os.path.join(test_data_dir, \"test\", \"NoLabel\")\n",
    "dst_dir = os.path.join(sample_dir, \"test\", \"NoLabel\")\n",
    "for jpgfile in glob.iglob(os.path.join(src_dir, \"*\")):\n",
    "    shutil.copy(jpgfile, dst_dir)\n",
    "\n",
    "print(\"Done.\")"
   ]
  },
  {
   "cell_type": "code",
   "execution_count": 5,
   "id": "81760a4e-818f-4848-95aa-6e4cbafe14db",
   "metadata": {},
   "outputs": [
    {
     "name": "stdout",
     "output_type": "stream",
     "text": [
      "/opt/ml/input/data_kaggle/train/Glass\n",
      "/opt/ml/input/data_kaggle/train/Metal\n",
      "/opt/ml/input/data_kaggle/train/Paper\n",
      "/opt/ml/input/data_kaggle/train/Plastic\n",
      "Done.\n",
      "/opt/ml/input/data_kaggle/val/Glass\n",
      "/opt/ml/input/data_kaggle/val/Metal\n",
      "/opt/ml/input/data_kaggle/val/Paper\n",
      "/opt/ml/input/data_kaggle/val/Plastic\n",
      "Done.\n"
     ]
    }
   ],
   "source": [
    "# copy train data all\n",
    "\n",
    "for category in categories:\n",
    "    # copy train data\n",
    "    src_dir = os.path.join(data_dir, \"train\", category)\n",
    "    dst_dir = os.path.join(sample_dir, \"train\", category)\n",
    "    print(dst_dir)\n",
    "        \n",
    "    data = glob.glob(os.path.join(src_dir, \"*\"))\n",
    "    # random.shuffle(data)\n",
    "    for jpgfile in data:\n",
    "        shutil.copy(jpgfile, dst_dir)\n",
    "print(\"Done.\")\n",
    "\n",
    "# copy validation data all\n",
    "\n",
    "for category in categories:\n",
    "    # copy validation data\n",
    "    src_dir = os.path.join(data_dir, \"val\", category)\n",
    "    dst_dir = os.path.join(sample_dir, \"val\", category)\n",
    "    print(dst_dir)\n",
    "    \n",
    "    data = glob.glob(os.path.join(src_dir, \"*\"))\n",
    "    # random.shuffle(data)\n",
    "    for jpgfile in data:\n",
    "        shutil.copy(jpgfile, dst_dir)        \n",
    "print(\"Done.\")"
   ]
  },
  {
   "cell_type": "code",
   "execution_count": 6,
   "id": "9e98b0e0-3833-43d7-86ce-07902e38b5ab",
   "metadata": {},
   "outputs": [
    {
     "name": "stdout",
     "output_type": "stream",
     "text": [
      "category   | train | validation\n",
      "------------------------------\n",
      "Glass      |  451  |   50\n",
      "Metal      |  369  |   41\n",
      "Paper      |  363  |   40\n",
      "Plastic    |  434  |   48\n"
     ]
    }
   ],
   "source": [
    "print(f\"{'category':10} | train | validation\")\n",
    "print(f\"{'-'*30}\")\n",
    "\n",
    "for category in categories:\n",
    "    category_dir = os.path.join(sample_dir, \"train\", category)\n",
    "    sample_data = glob.glob(os.path.join(category_dir, \"*\"))\n",
    "    num = len(sample_data)\n",
    "    print(f\"{category:10} | {num:4}  |\", end=\"\")\n",
    "    \n",
    "    category_dir = os.path.join(sample_dir, \"val\", category)\n",
    "    sample_data = glob.glob(os.path.join(category_dir, \"*\"))\n",
    "    num = len(sample_data)\n",
    "    print(f\"{num:5}\")"
   ]
  },
  {
   "cell_type": "code",
   "execution_count": null,
   "id": "3804be32-6522-4426-adb1-ddee5561ab99",
   "metadata": {},
   "outputs": [],
   "source": []
  }
 ],
 "metadata": {
  "kernelspec": {
   "display_name": "Python 3",
   "language": "python",
   "name": "python3"
  },
  "language_info": {
   "codemirror_mode": {
    "name": "ipython",
    "version": 3
   },
   "file_extension": ".py",
   "mimetype": "text/x-python",
   "name": "python",
   "nbconvert_exporter": "python",
   "pygments_lexer": "ipython3",
   "version": "3.8.5"
  }
 },
 "nbformat": 4,
 "nbformat_minor": 5
}
