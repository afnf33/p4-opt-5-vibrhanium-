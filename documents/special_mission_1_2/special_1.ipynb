{
 "cells": [
  {
   "cell_type": "code",
   "execution_count": 7,
   "id": "abe0ecfa-9738-45c5-9369-d6373469725b",
   "metadata": {},
   "outputs": [],
   "source": [
    "import os\n",
    "\n",
    "import cv2\n",
    "import torch\n",
    "import torch.nn as nn\n",
    "import torch.nn.functional as F\n",
    "import torch.optim as optim\n",
    "import matplotlib.pyplot as plt\n",
    "from torch.utils.data import Dataset, DataLoader\n",
    "from torchvision import datasets\n",
    "from torchvision import transforms\n",
    "\n",
    "import optuna\n",
    "from optuna.trial import TrialState"
   ]
  },
  {
   "cell_type": "code",
   "execution_count": 8,
   "id": "f916d131-af08-4f6a-a0b8-1e13244ad7cc",
   "metadata": {},
   "outputs": [],
   "source": [
    "device = 'cuda' if torch.cuda.is_available() else 'cpu'\n",
    "num_class = 10\n",
    "LOG_INTERVAL = 200"
   ]
  },
  {
   "cell_type": "code",
   "execution_count": 9,
   "id": "083e003c-dfc5-4dde-9da4-7afa231e02c9",
   "metadata": {},
   "outputs": [],
   "source": [
    "def define_model(trial):\n",
    "    n_layers = trial.suggest_int(\"n_layers\", 1, 3)\n",
    "    layers = []\n",
    "    \n",
    "    in_features = 28 * 28\n",
    "    for i in range(n_layers):\n",
    "        out_features = trial.suggest_int(f\"n_units_l{i}\", 4, 128)\n",
    "        layers.append(nn.Linear(in_features, out_features)) # (B, 1, 28, 28) => (B, 28 * 28) \n",
    "        layers.append(nn.ReLU())\n",
    "        p = trial.suggest_float(f\"dropout_l{i}\", 0.2, 0.5)\n",
    "        layers.append(nn.Dropout(p))\n",
    "        \n",
    "        in_features = out_features\n",
    "    layers.append(nn.Linear(in_features, num_class))\n",
    "\n",
    "    return nn.Sequential(*layers)"
   ]
  },
  {
   "cell_type": "code",
   "execution_count": 10,
   "id": "3ecf9615-4be8-4377-b5e7-ad4de468163e",
   "metadata": {},
   "outputs": [],
   "source": [
    "def get_dataloader(batch_size):\n",
    "    train_dataset = datasets.FashionMNIST('./cifar10/', train=True, download=True, transform=transforms.ToTensor())\n",
    "    valid_dataset = datasets.FashionMNIST('./cifar10/', train=False, transform=transforms.ToTensor())\n",
    "\n",
    "    train_loader = DataLoader(\n",
    "        train_dataset,\n",
    "        batch_size=batch_size,\n",
    "        shuffle=True,\n",
    "        num_workers=2\n",
    "    )\n",
    "    \n",
    "    valid_loader = DataLoader(\n",
    "        valid_dataset,\n",
    "        batch_size=batch_size,\n",
    "        shuffle=True,\n",
    "        num_workers=2\n",
    "    )\n",
    "    \n",
    "    return train_loader, valid_loader"
   ]
  },
  {
   "cell_type": "code",
   "execution_count": 11,
   "id": "1cbf0f4b-3204-472b-bb7c-7e05d56c541f",
   "metadata": {},
   "outputs": [],
   "source": [
    "def objective(trial):\n",
    "    model = define_model(trial).to(device)\n",
    "    \n",
    "    optimizer_name = trial.suggest_categorical(\"optimizer\", [\"Adam\", \"RMSprop\", \"SGD\"])\n",
    "    lr = trial.suggest_float(\"lr\", 1e-5, 1e-1, log=True)\n",
    "    optimizer = getattr(optim, optimizer_name)(model.parameters(), lr=lr)\n",
    "    batch_size = trial.suggest_categorical(\"batch_size\", [8, 16, 32, 64])\n",
    "    epochs = trial.suggest_int(\"epoch\", 5, 20)\n",
    "    \n",
    "    train_loader, valid_loader = get_dataloader(batch_size)\n",
    "    \n",
    "    criterion = nn.CrossEntropyLoss()\n",
    "    for epoch in range(epochs):\n",
    "        model.train()\n",
    "        for batch_idx, (X_train, y_train) in enumerate(train_loader):\n",
    "            X_train = X_train.view(X_train.size(0), -1).to(device) # flatten 역할\n",
    "            y_train = y_train.to(device)\n",
    "\n",
    "            optimizer.zero_grad()\n",
    "            output = model(X_train)\n",
    "            loss = criterion(output, y_train)\n",
    "            loss.backward()\n",
    "            optimizer.step()\n",
    "\n",
    "            if batch_idx % LOG_INTERVAL == 0:\n",
    "                print(f\"Train Epoch: {epoch} [{(batch_idx + 1) * batch_size}/{len(train_loader.dataset)}]\\tLoss: {loss.item():.6f}\")\n",
    "                \n",
    "        model.eval()\n",
    "        correct = 0\n",
    "        with torch.no_grad():\n",
    "            for batch_idx, (X_valid, y_valid) in enumerate(valid_loader):\n",
    "                X_valid = X_valid.view(X_valid.size(0), -1).to(device)\n",
    "                y_valid = y_valid.to(device)\n",
    "\n",
    "                output = model(X_valid)\n",
    "                pred = output.argmax(dim=1, keepdim=True)\n",
    "                correct += pred.eq(y_valid.view_as(pred)).sum().item()\n",
    "                \n",
    "        accuracy = correct / len(valid_loader.dataset)\n",
    "\n",
    "        trial.report(accuracy, epoch)\n",
    "\n",
    "        if trial.should_prune(): # 잘라내야한다\n",
    "            raise optuna.exceptions.TrialPruned()\n",
    "\n",
    "        return accuracy"
   ]
  },
  {
   "cell_type": "code",
   "execution_count": 12,
   "id": "9b770d02-00fb-4db5-a154-48fc5999a747",
   "metadata": {},
   "outputs": [
    {
     "name": "stderr",
     "output_type": "stream",
     "text": [
      "\u001b[32m[I 2021-05-27 08:07:31,525]\u001b[0m A new study created in memory with name: no-name-7bd8fcf3-b89c-4cf9-9839-8d55910694db\u001b[0m\n"
     ]
    },
    {
     "name": "stdout",
     "output_type": "stream",
     "text": [
      "Train Epoch: 0 [64/60000]\tLoss: 2.320259\n",
      "Train Epoch: 0 [12864/60000]\tLoss: 1.003493\n",
      "Train Epoch: 0 [25664/60000]\tLoss: 1.253901\n",
      "Train Epoch: 0 [38464/60000]\tLoss: 1.026822\n",
      "Train Epoch: 0 [51264/60000]\tLoss: 1.062552\n"
     ]
    },
    {
     "name": "stderr",
     "output_type": "stream",
     "text": [
      "\u001b[32m[I 2021-05-27 08:07:37,373]\u001b[0m Trial 0 finished with value: 0.7228 and parameters: {'n_layers': 3, 'n_units_l0': 124, 'dropout_l0': 0.33550063621548, 'n_units_l1': 87, 'dropout_l1': 0.48656991280952416, 'n_units_l2': 64, 'dropout_l2': 0.4302928111686385, 'optimizer': 'Adam', 'lr': 0.014910368946513042, 'batch_size': 64, 'epoch': 20}. Best is trial 0 with value: 0.7228.\u001b[0m\n"
     ]
    },
    {
     "name": "stdout",
     "output_type": "stream",
     "text": [
      "Train Epoch: 0 [8/60000]\tLoss: 2.345330\n",
      "Train Epoch: 0 [1608/60000]\tLoss: 1.042247\n",
      "Train Epoch: 0 [3208/60000]\tLoss: 0.638430\n",
      "Train Epoch: 0 [4808/60000]\tLoss: 2.379360\n",
      "Train Epoch: 0 [6408/60000]\tLoss: 0.980853\n",
      "Train Epoch: 0 [8008/60000]\tLoss: 0.641927\n",
      "Train Epoch: 0 [9608/60000]\tLoss: 0.641924\n",
      "Train Epoch: 0 [11208/60000]\tLoss: 0.554690\n",
      "Train Epoch: 0 [12808/60000]\tLoss: 0.209407\n",
      "Train Epoch: 0 [14408/60000]\tLoss: 0.539827\n",
      "Train Epoch: 0 [16008/60000]\tLoss: 0.340083\n",
      "Train Epoch: 0 [17608/60000]\tLoss: 0.390163\n",
      "Train Epoch: 0 [19208/60000]\tLoss: 0.076503\n",
      "Train Epoch: 0 [20808/60000]\tLoss: 0.733841\n",
      "Train Epoch: 0 [22408/60000]\tLoss: 0.622734\n",
      "Train Epoch: 0 [24008/60000]\tLoss: 0.717688\n",
      "Train Epoch: 0 [25608/60000]\tLoss: 0.503317\n",
      "Train Epoch: 0 [27208/60000]\tLoss: 1.407466\n",
      "Train Epoch: 0 [28808/60000]\tLoss: 0.563821\n",
      "Train Epoch: 0 [30408/60000]\tLoss: 0.353752\n",
      "Train Epoch: 0 [32008/60000]\tLoss: 0.453105\n",
      "Train Epoch: 0 [33608/60000]\tLoss: 0.313914\n",
      "Train Epoch: 0 [35208/60000]\tLoss: 0.124249\n",
      "Train Epoch: 0 [36808/60000]\tLoss: 0.431110\n",
      "Train Epoch: 0 [38408/60000]\tLoss: 0.758430\n",
      "Train Epoch: 0 [40008/60000]\tLoss: 0.155772\n",
      "Train Epoch: 0 [41608/60000]\tLoss: 0.526442\n",
      "Train Epoch: 0 [43208/60000]\tLoss: 0.790725\n",
      "Train Epoch: 0 [44808/60000]\tLoss: 0.203370\n",
      "Train Epoch: 0 [46408/60000]\tLoss: 0.307892\n",
      "Train Epoch: 0 [48008/60000]\tLoss: 0.531600\n",
      "Train Epoch: 0 [49608/60000]\tLoss: 1.262101\n",
      "Train Epoch: 0 [51208/60000]\tLoss: 0.130353\n",
      "Train Epoch: 0 [52808/60000]\tLoss: 0.230561\n",
      "Train Epoch: 0 [54408/60000]\tLoss: 0.367649\n",
      "Train Epoch: 0 [56008/60000]\tLoss: 1.032731\n",
      "Train Epoch: 0 [57608/60000]\tLoss: 0.311007\n",
      "Train Epoch: 0 [59208/60000]\tLoss: 1.119796\n"
     ]
    },
    {
     "name": "stderr",
     "output_type": "stream",
     "text": [
      "\u001b[32m[I 2021-05-27 08:08:06,827]\u001b[0m Trial 1 finished with value: 0.8152 and parameters: {'n_layers': 2, 'n_units_l0': 109, 'dropout_l0': 0.4149968283720924, 'n_units_l1': 59, 'dropout_l1': 0.3236666657692482, 'optimizer': 'Adam', 'lr': 0.0018213063504911014, 'batch_size': 8, 'epoch': 18}. Best is trial 1 with value: 0.8152.\u001b[0m\n"
     ]
    },
    {
     "name": "stdout",
     "output_type": "stream",
     "text": [
      "Train Epoch: 0 [32/60000]\tLoss: 2.299277\n",
      "Train Epoch: 0 [6432/60000]\tLoss: 2.227624\n",
      "Train Epoch: 0 [12832/60000]\tLoss: 2.114434\n",
      "Train Epoch: 0 [19232/60000]\tLoss: 1.976840\n",
      "Train Epoch: 0 [25632/60000]\tLoss: 1.875812\n",
      "Train Epoch: 0 [32032/60000]\tLoss: 1.825418\n",
      "Train Epoch: 0 [38432/60000]\tLoss: 1.820161\n",
      "Train Epoch: 0 [44832/60000]\tLoss: 1.562962\n",
      "Train Epoch: 0 [51232/60000]\tLoss: 1.368564\n",
      "Train Epoch: 0 [57632/60000]\tLoss: 1.361802\n"
     ]
    },
    {
     "name": "stderr",
     "output_type": "stream",
     "text": [
      "\u001b[32m[I 2021-05-27 08:08:14,894]\u001b[0m Trial 2 finished with value: 0.6489 and parameters: {'n_layers': 2, 'n_units_l0': 96, 'dropout_l0': 0.24986192451610442, 'n_units_l1': 103, 'dropout_l1': 0.2557825487859024, 'optimizer': 'Adam', 'lr': 1.1819050915983608e-05, 'batch_size': 32, 'epoch': 11}. Best is trial 1 with value: 0.8152.\u001b[0m\n"
     ]
    },
    {
     "name": "stdout",
     "output_type": "stream",
     "text": [
      "Train Epoch: 0 [32/60000]\tLoss: 2.297961\n",
      "Train Epoch: 0 [6432/60000]\tLoss: 2.315097\n",
      "Train Epoch: 0 [12832/60000]\tLoss: 2.296214\n",
      "Train Epoch: 0 [19232/60000]\tLoss: 2.260385\n",
      "Train Epoch: 0 [25632/60000]\tLoss: 2.280383\n",
      "Train Epoch: 0 [32032/60000]\tLoss: 2.290054\n",
      "Train Epoch: 0 [38432/60000]\tLoss: 2.288836\n",
      "Train Epoch: 0 [44832/60000]\tLoss: 2.272677\n",
      "Train Epoch: 0 [51232/60000]\tLoss: 2.295753\n",
      "Train Epoch: 0 [57632/60000]\tLoss: 2.299253\n"
     ]
    },
    {
     "name": "stderr",
     "output_type": "stream",
     "text": [
      "\u001b[32m[I 2021-05-27 08:08:21,961]\u001b[0m Trial 3 finished with value: 0.1042 and parameters: {'n_layers': 2, 'n_units_l0': 79, 'dropout_l0': 0.40942365122677427, 'n_units_l1': 91, 'dropout_l1': 0.2117203180858434, 'optimizer': 'SGD', 'lr': 2.283199028656177e-05, 'batch_size': 32, 'epoch': 13}. Best is trial 1 with value: 0.8152.\u001b[0m\n"
     ]
    },
    {
     "name": "stdout",
     "output_type": "stream",
     "text": [
      "Train Epoch: 0 [16/60000]\tLoss: 2.338847\n",
      "Train Epoch: 0 [3216/60000]\tLoss: 1.815119\n",
      "Train Epoch: 0 [6416/60000]\tLoss: 1.406292\n",
      "Train Epoch: 0 [9616/60000]\tLoss: 0.895752\n",
      "Train Epoch: 0 [12816/60000]\tLoss: 1.341273\n",
      "Train Epoch: 0 [16016/60000]\tLoss: 0.891364\n",
      "Train Epoch: 0 [19216/60000]\tLoss: 0.932298\n",
      "Train Epoch: 0 [22416/60000]\tLoss: 1.286478\n",
      "Train Epoch: 0 [25616/60000]\tLoss: 0.700057\n",
      "Train Epoch: 0 [28816/60000]\tLoss: 0.930804\n",
      "Train Epoch: 0 [32016/60000]\tLoss: 0.532847\n",
      "Train Epoch: 0 [35216/60000]\tLoss: 1.243937\n",
      "Train Epoch: 0 [38416/60000]\tLoss: 1.004733\n",
      "Train Epoch: 0 [41616/60000]\tLoss: 0.705283\n",
      "Train Epoch: 0 [44816/60000]\tLoss: 0.694482\n",
      "Train Epoch: 0 [48016/60000]\tLoss: 0.401402\n",
      "Train Epoch: 0 [51216/60000]\tLoss: 0.781844\n",
      "Train Epoch: 0 [54416/60000]\tLoss: 0.632831\n",
      "Train Epoch: 0 [57616/60000]\tLoss: 0.650538\n"
     ]
    },
    {
     "name": "stderr",
     "output_type": "stream",
     "text": [
      "\u001b[32m[I 2021-05-27 08:08:33,676]\u001b[0m Trial 4 finished with value: 0.786 and parameters: {'n_layers': 1, 'n_units_l0': 85, 'dropout_l0': 0.44001904593265295, 'optimizer': 'SGD', 'lr': 0.008333415764746709, 'batch_size': 16, 'epoch': 19}. Best is trial 1 with value: 0.8152.\u001b[0m\n"
     ]
    },
    {
     "name": "stdout",
     "output_type": "stream",
     "text": [
      "Train Epoch: 0 [8/60000]\tLoss: 2.290019\n",
      "Train Epoch: 0 [1608/60000]\tLoss: 2.213070\n",
      "Train Epoch: 0 [3208/60000]\tLoss: 2.052474\n",
      "Train Epoch: 0 [4808/60000]\tLoss: 2.008010\n",
      "Train Epoch: 0 [6408/60000]\tLoss: 2.090426\n",
      "Train Epoch: 0 [8008/60000]\tLoss: 2.056666\n",
      "Train Epoch: 0 [9608/60000]\tLoss: 1.694011\n",
      "Train Epoch: 0 [11208/60000]\tLoss: 1.907596\n",
      "Train Epoch: 0 [12808/60000]\tLoss: 1.619586\n",
      "Train Epoch: 0 [14408/60000]\tLoss: 1.797589\n",
      "Train Epoch: 0 [16008/60000]\tLoss: 1.687090\n",
      "Train Epoch: 0 [17608/60000]\tLoss: 1.549659\n",
      "Train Epoch: 0 [19208/60000]\tLoss: 1.459925\n",
      "Train Epoch: 0 [20808/60000]\tLoss: 1.079351\n",
      "Train Epoch: 0 [22408/60000]\tLoss: 1.378888\n",
      "Train Epoch: 0 [24008/60000]\tLoss: 1.456910\n",
      "Train Epoch: 0 [25608/60000]\tLoss: 1.361648\n",
      "Train Epoch: 0 [27208/60000]\tLoss: 0.946781\n",
      "Train Epoch: 0 [28808/60000]\tLoss: 0.951937\n",
      "Train Epoch: 0 [30408/60000]\tLoss: 1.159877\n",
      "Train Epoch: 0 [32008/60000]\tLoss: 1.079100\n",
      "Train Epoch: 0 [33608/60000]\tLoss: 1.485723\n",
      "Train Epoch: 0 [35208/60000]\tLoss: 0.744591\n",
      "Train Epoch: 0 [36808/60000]\tLoss: 1.143857\n",
      "Train Epoch: 0 [38408/60000]\tLoss: 0.843177\n",
      "Train Epoch: 0 [40008/60000]\tLoss: 1.287500\n",
      "Train Epoch: 0 [41608/60000]\tLoss: 0.875982\n",
      "Train Epoch: 0 [43208/60000]\tLoss: 1.180430\n",
      "Train Epoch: 0 [44808/60000]\tLoss: 0.716528\n",
      "Train Epoch: 0 [46408/60000]\tLoss: 1.246439\n",
      "Train Epoch: 0 [48008/60000]\tLoss: 1.471079\n",
      "Train Epoch: 0 [49608/60000]\tLoss: 0.937903\n",
      "Train Epoch: 0 [51208/60000]\tLoss: 1.084696\n",
      "Train Epoch: 0 [52808/60000]\tLoss: 1.164626\n",
      "Train Epoch: 0 [54408/60000]\tLoss: 0.946182\n",
      "Train Epoch: 0 [56008/60000]\tLoss: 1.324793\n",
      "Train Epoch: 0 [57608/60000]\tLoss: 1.179707\n",
      "Train Epoch: 0 [59208/60000]\tLoss: 0.789832\n"
     ]
    },
    {
     "name": "stderr",
     "output_type": "stream",
     "text": [
      "\u001b[32m[I 2021-05-27 08:09:00,461]\u001b[0m Trial 5 pruned. \u001b[0m\n"
     ]
    },
    {
     "name": "stdout",
     "output_type": "stream",
     "text": [
      "Train Epoch: 0 [64/60000]\tLoss: 2.281360\n",
      "Train Epoch: 0 [12864/60000]\tLoss: 0.573774\n",
      "Train Epoch: 0 [25664/60000]\tLoss: 0.828099\n",
      "Train Epoch: 0 [38464/60000]\tLoss: 0.629642\n",
      "Train Epoch: 0 [51264/60000]\tLoss: 0.437352\n"
     ]
    },
    {
     "name": "stderr",
     "output_type": "stream",
     "text": [
      "\u001b[32m[I 2021-05-27 08:09:06,145]\u001b[0m Trial 6 finished with value: 0.8303 and parameters: {'n_layers': 1, 'n_units_l0': 118, 'dropout_l0': 0.43773201064875555, 'optimizer': 'Adam', 'lr': 0.001138316015475726, 'batch_size': 64, 'epoch': 19}. Best is trial 6 with value: 0.8303.\u001b[0m\n"
     ]
    },
    {
     "name": "stdout",
     "output_type": "stream",
     "text": [
      "Train Epoch: 0 [8/60000]\tLoss: 2.242649\n",
      "Train Epoch: 0 [1608/60000]\tLoss: 2.271122\n",
      "Train Epoch: 0 [3208/60000]\tLoss: 2.359314\n",
      "Train Epoch: 0 [4808/60000]\tLoss: 2.340886\n",
      "Train Epoch: 0 [6408/60000]\tLoss: 2.293002\n",
      "Train Epoch: 0 [8008/60000]\tLoss: 2.287336\n",
      "Train Epoch: 0 [9608/60000]\tLoss: 2.305013\n",
      "Train Epoch: 0 [11208/60000]\tLoss: 2.321278\n",
      "Train Epoch: 0 [12808/60000]\tLoss: 2.334670\n",
      "Train Epoch: 0 [14408/60000]\tLoss: 2.361128\n",
      "Train Epoch: 0 [16008/60000]\tLoss: 2.272957\n",
      "Train Epoch: 0 [17608/60000]\tLoss: 2.285165\n",
      "Train Epoch: 0 [19208/60000]\tLoss: 2.343708\n",
      "Train Epoch: 0 [20808/60000]\tLoss: 2.293174\n",
      "Train Epoch: 0 [22408/60000]\tLoss: 2.307005\n",
      "Train Epoch: 0 [24008/60000]\tLoss: 2.269520\n",
      "Train Epoch: 0 [25608/60000]\tLoss: 2.284564\n",
      "Train Epoch: 0 [27208/60000]\tLoss: 2.281371\n",
      "Train Epoch: 0 [28808/60000]\tLoss: 2.317449\n",
      "Train Epoch: 0 [30408/60000]\tLoss: 2.282894\n",
      "Train Epoch: 0 [32008/60000]\tLoss: 2.199380\n",
      "Train Epoch: 0 [33608/60000]\tLoss: 2.303812\n",
      "Train Epoch: 0 [35208/60000]\tLoss: 2.306363\n",
      "Train Epoch: 0 [36808/60000]\tLoss: 2.316750\n",
      "Train Epoch: 0 [38408/60000]\tLoss: 2.277990\n",
      "Train Epoch: 0 [40008/60000]\tLoss: 2.234386\n",
      "Train Epoch: 0 [41608/60000]\tLoss: 2.326456\n",
      "Train Epoch: 0 [43208/60000]\tLoss: 2.301953\n",
      "Train Epoch: 0 [44808/60000]\tLoss: 2.299451\n",
      "Train Epoch: 0 [46408/60000]\tLoss: 2.321924\n",
      "Train Epoch: 0 [48008/60000]\tLoss: 2.308483\n",
      "Train Epoch: 0 [49608/60000]\tLoss: 2.308251\n",
      "Train Epoch: 0 [51208/60000]\tLoss: 2.296061\n",
      "Train Epoch: 0 [52808/60000]\tLoss: 2.349489\n",
      "Train Epoch: 0 [54408/60000]\tLoss: 2.307001\n",
      "Train Epoch: 0 [56008/60000]\tLoss: 2.341075\n",
      "Train Epoch: 0 [57608/60000]\tLoss: 2.338157\n",
      "Train Epoch: 0 [59208/60000]\tLoss: 2.312102\n"
     ]
    },
    {
     "name": "stderr",
     "output_type": "stream",
     "text": [
      "\u001b[32m[I 2021-05-27 08:09:29,642]\u001b[0m Trial 7 pruned. \u001b[0m\n"
     ]
    },
    {
     "name": "stdout",
     "output_type": "stream",
     "text": [
      "Train Epoch: 0 [32/60000]\tLoss: 2.367381\n",
      "Train Epoch: 0 [6432/60000]\tLoss: 1.071431\n",
      "Train Epoch: 0 [12832/60000]\tLoss: 1.138504\n",
      "Train Epoch: 0 [19232/60000]\tLoss: 0.856029\n",
      "Train Epoch: 0 [25632/60000]\tLoss: 0.826838\n",
      "Train Epoch: 0 [32032/60000]\tLoss: 0.650629\n",
      "Train Epoch: 0 [38432/60000]\tLoss: 0.864307\n",
      "Train Epoch: 0 [44832/60000]\tLoss: 0.806219\n",
      "Train Epoch: 0 [51232/60000]\tLoss: 0.789979\n",
      "Train Epoch: 0 [57632/60000]\tLoss: 1.160054\n"
     ]
    },
    {
     "name": "stderr",
     "output_type": "stream",
     "text": [
      "\u001b[32m[I 2021-05-27 08:09:36,289]\u001b[0m Trial 8 finished with value: 0.816 and parameters: {'n_layers': 1, 'n_units_l0': 27, 'dropout_l0': 0.39136402565361417, 'optimizer': 'RMSprop', 'lr': 0.003917405613776444, 'batch_size': 32, 'epoch': 17}. Best is trial 6 with value: 0.8303.\u001b[0m\n"
     ]
    },
    {
     "name": "stdout",
     "output_type": "stream",
     "text": [
      "Train Epoch: 0 [32/60000]\tLoss: 2.305115\n",
      "Train Epoch: 0 [6432/60000]\tLoss: 1.229172\n",
      "Train Epoch: 0 [12832/60000]\tLoss: 1.096908\n",
      "Train Epoch: 0 [19232/60000]\tLoss: 0.849331\n",
      "Train Epoch: 0 [25632/60000]\tLoss: 0.635375\n",
      "Train Epoch: 0 [32032/60000]\tLoss: 0.734050\n",
      "Train Epoch: 0 [38432/60000]\tLoss: 0.610806\n",
      "Train Epoch: 0 [44832/60000]\tLoss: 0.800610\n",
      "Train Epoch: 0 [51232/60000]\tLoss: 0.719748\n",
      "Train Epoch: 0 [57632/60000]\tLoss: 0.391333\n"
     ]
    },
    {
     "name": "stderr",
     "output_type": "stream",
     "text": [
      "\u001b[32m[I 2021-05-27 08:09:43,450]\u001b[0m Trial 9 finished with value: 0.7963 and parameters: {'n_layers': 1, 'n_units_l0': 101, 'dropout_l0': 0.23059759945568564, 'optimizer': 'Adam', 'lr': 0.00011100076015133439, 'batch_size': 32, 'epoch': 17}. Best is trial 6 with value: 0.8303.\u001b[0m\n"
     ]
    },
    {
     "name": "stdout",
     "output_type": "stream",
     "text": [
      "Train Epoch: 0 [64/60000]\tLoss: 2.302724\n",
      "Train Epoch: 0 [12864/60000]\tLoss: 1.530972\n",
      "Train Epoch: 0 [25664/60000]\tLoss: 1.378257\n",
      "Train Epoch: 0 [38464/60000]\tLoss: 1.262552\n",
      "Train Epoch: 0 [51264/60000]\tLoss: 1.375744\n"
     ]
    },
    {
     "name": "stderr",
     "output_type": "stream",
     "text": [
      "\u001b[32m[I 2021-05-27 08:09:49,442]\u001b[0m Trial 10 pruned. \u001b[0m\n"
     ]
    },
    {
     "name": "stdout",
     "output_type": "stream",
     "text": [
      "Train Epoch: 0 [64/60000]\tLoss: 2.363656\n",
      "Train Epoch: 0 [12864/60000]\tLoss: 2.074535\n",
      "Train Epoch: 0 [25664/60000]\tLoss: 1.996794\n",
      "Train Epoch: 0 [38464/60000]\tLoss: 1.522930\n",
      "Train Epoch: 0 [51264/60000]\tLoss: 1.787448\n"
     ]
    },
    {
     "name": "stderr",
     "output_type": "stream",
     "text": [
      "\u001b[32m[I 2021-05-27 08:09:55,190]\u001b[0m Trial 11 pruned. \u001b[0m\n"
     ]
    },
    {
     "name": "stdout",
     "output_type": "stream",
     "text": [
      "Train Epoch: 0 [16/60000]\tLoss: 2.338589\n",
      "Train Epoch: 0 [3216/60000]\tLoss: 1.942925\n",
      "Train Epoch: 0 [6416/60000]\tLoss: 1.727291\n",
      "Train Epoch: 0 [9616/60000]\tLoss: 2.004922\n",
      "Train Epoch: 0 [12816/60000]\tLoss: 2.282870\n",
      "Train Epoch: 0 [16016/60000]\tLoss: 2.283678\n",
      "Train Epoch: 0 [19216/60000]\tLoss: 2.333515\n",
      "Train Epoch: 0 [22416/60000]\tLoss: 2.308000\n",
      "Train Epoch: 0 [25616/60000]\tLoss: 2.263001\n",
      "Train Epoch: 0 [28816/60000]\tLoss: 2.340006\n",
      "Train Epoch: 0 [32016/60000]\tLoss: 2.371715\n",
      "Train Epoch: 0 [35216/60000]\tLoss: 2.291284\n",
      "Train Epoch: 0 [38416/60000]\tLoss: 2.281595\n",
      "Train Epoch: 0 [41616/60000]\tLoss: 2.295832\n",
      "Train Epoch: 0 [44816/60000]\tLoss: 2.290695\n",
      "Train Epoch: 0 [48016/60000]\tLoss: 2.350034\n",
      "Train Epoch: 0 [51216/60000]\tLoss: 2.368475\n",
      "Train Epoch: 0 [54416/60000]\tLoss: 2.306365\n",
      "Train Epoch: 0 [57616/60000]\tLoss: 2.389275\n"
     ]
    },
    {
     "name": "stderr",
     "output_type": "stream",
     "text": [
      "\u001b[32m[I 2021-05-27 08:10:07,251]\u001b[0m Trial 12 pruned. \u001b[0m\n"
     ]
    },
    {
     "name": "stdout",
     "output_type": "stream",
     "text": [
      "Train Epoch: 0 [32/60000]\tLoss: 2.337615\n",
      "Train Epoch: 0 [6432/60000]\tLoss: 2.200248\n",
      "Train Epoch: 0 [12832/60000]\tLoss: 2.021037\n",
      "Train Epoch: 0 [19232/60000]\tLoss: 1.742382\n",
      "Train Epoch: 0 [25632/60000]\tLoss: 2.087462\n",
      "Train Epoch: 0 [32032/60000]\tLoss: 1.627377\n",
      "Train Epoch: 0 [38432/60000]\tLoss: 2.118093\n",
      "Train Epoch: 0 [44832/60000]\tLoss: 1.834525\n",
      "Train Epoch: 0 [51232/60000]\tLoss: 2.079364\n",
      "Train Epoch: 0 [57632/60000]\tLoss: 1.971386\n"
     ]
    },
    {
     "name": "stderr",
     "output_type": "stream",
     "text": [
      "\u001b[32m[I 2021-05-27 08:10:13,805]\u001b[0m Trial 13 pruned. \u001b[0m\n"
     ]
    },
    {
     "name": "stdout",
     "output_type": "stream",
     "text": [
      "Train Epoch: 0 [64/60000]\tLoss: 2.345598\n",
      "Train Epoch: 0 [12864/60000]\tLoss: 0.977047\n",
      "Train Epoch: 0 [25664/60000]\tLoss: 0.793141\n",
      "Train Epoch: 0 [38464/60000]\tLoss: 0.965154\n",
      "Train Epoch: 0 [51264/60000]\tLoss: 0.822806\n"
     ]
    },
    {
     "name": "stderr",
     "output_type": "stream",
     "text": [
      "\u001b[32m[I 2021-05-27 08:10:19,318]\u001b[0m Trial 14 finished with value: 0.7949 and parameters: {'n_layers': 1, 'n_units_l0': 28, 'dropout_l0': 0.3699391917767526, 'optimizer': 'RMSprop', 'lr': 0.0004842456681371465, 'batch_size': 64, 'epoch': 11}. Best is trial 6 with value: 0.8303.\u001b[0m\n"
     ]
    },
    {
     "name": "stdout",
     "output_type": "stream",
     "text": [
      "Train Epoch: 0 [32/60000]\tLoss: 2.273023\n",
      "Train Epoch: 0 [6432/60000]\tLoss: 1.706706\n",
      "Train Epoch: 0 [12832/60000]\tLoss: 1.456020\n",
      "Train Epoch: 0 [19232/60000]\tLoss: 1.337716\n",
      "Train Epoch: 0 [25632/60000]\tLoss: 1.357651\n",
      "Train Epoch: 0 [32032/60000]\tLoss: 0.884595\n",
      "Train Epoch: 0 [38432/60000]\tLoss: 1.792423\n",
      "Train Epoch: 0 [44832/60000]\tLoss: 1.005556\n",
      "Train Epoch: 0 [51232/60000]\tLoss: 1.280961\n",
      "Train Epoch: 0 [57632/60000]\tLoss: 0.790354\n"
     ]
    },
    {
     "name": "stderr",
     "output_type": "stream",
     "text": [
      "\u001b[32m[I 2021-05-27 08:10:26,389]\u001b[0m Trial 15 pruned. \u001b[0m\n"
     ]
    },
    {
     "name": "stdout",
     "output_type": "stream",
     "text": [
      "Train Epoch: 0 [64/60000]\tLoss: 2.333264\n",
      "Train Epoch: 0 [12864/60000]\tLoss: 0.955925\n",
      "Train Epoch: 0 [25664/60000]\tLoss: 0.800671\n",
      "Train Epoch: 0 [38464/60000]\tLoss: 0.920683\n",
      "Train Epoch: 0 [51264/60000]\tLoss: 0.946427\n"
     ]
    },
    {
     "name": "stderr",
     "output_type": "stream",
     "text": [
      "\u001b[32m[I 2021-05-27 08:10:31,815]\u001b[0m Trial 16 finished with value: 0.7974 and parameters: {'n_layers': 1, 'n_units_l0': 21, 'dropout_l0': 0.4591971781299946, 'optimizer': 'Adam', 'lr': 0.0029974612411739245, 'batch_size': 64, 'epoch': 20}. Best is trial 6 with value: 0.8303.\u001b[0m\n"
     ]
    },
    {
     "name": "stdout",
     "output_type": "stream",
     "text": [
      "Train Epoch: 0 [16/60000]\tLoss: 2.356792\n",
      "Train Epoch: 0 [3216/60000]\tLoss: 1.505217\n",
      "Train Epoch: 0 [6416/60000]\tLoss: 1.257414\n",
      "Train Epoch: 0 [9616/60000]\tLoss: 1.245850\n",
      "Train Epoch: 0 [12816/60000]\tLoss: 1.230914\n",
      "Train Epoch: 0 [16016/60000]\tLoss: 1.182352\n",
      "Train Epoch: 0 [19216/60000]\tLoss: 1.336984\n",
      "Train Epoch: 0 [22416/60000]\tLoss: 0.976817\n",
      "Train Epoch: 0 [25616/60000]\tLoss: 0.893711\n",
      "Train Epoch: 0 [28816/60000]\tLoss: 0.830466\n",
      "Train Epoch: 0 [32016/60000]\tLoss: 0.657053\n",
      "Train Epoch: 0 [35216/60000]\tLoss: 0.809718\n",
      "Train Epoch: 0 [38416/60000]\tLoss: 0.936679\n",
      "Train Epoch: 0 [41616/60000]\tLoss: 0.625566\n",
      "Train Epoch: 0 [44816/60000]\tLoss: 0.968109\n",
      "Train Epoch: 0 [48016/60000]\tLoss: 0.735855\n",
      "Train Epoch: 0 [51216/60000]\tLoss: 0.431530\n",
      "Train Epoch: 0 [54416/60000]\tLoss: 0.683184\n",
      "Train Epoch: 0 [57616/60000]\tLoss: 0.650693\n"
     ]
    },
    {
     "name": "stderr",
     "output_type": "stream",
     "text": [
      "\u001b[32m[I 2021-05-27 08:10:43,675]\u001b[0m Trial 17 pruned. \u001b[0m\n"
     ]
    },
    {
     "name": "stdout",
     "output_type": "stream",
     "text": [
      "Train Epoch: 0 [32/60000]\tLoss: 2.266807\n",
      "Train Epoch: 0 [6432/60000]\tLoss: 1.765525\n",
      "Train Epoch: 0 [12832/60000]\tLoss: 1.503903\n",
      "Train Epoch: 0 [19232/60000]\tLoss: 1.480017\n",
      "Train Epoch: 0 [25632/60000]\tLoss: 1.396910\n",
      "Train Epoch: 0 [32032/60000]\tLoss: 1.545645\n",
      "Train Epoch: 0 [38432/60000]\tLoss: 1.066320\n",
      "Train Epoch: 0 [44832/60000]\tLoss: 1.379285\n",
      "Train Epoch: 0 [51232/60000]\tLoss: 1.216347\n",
      "Train Epoch: 0 [57632/60000]\tLoss: 1.790370\n"
     ]
    },
    {
     "name": "stderr",
     "output_type": "stream",
     "text": [
      "\u001b[32m[I 2021-05-27 08:10:51,717]\u001b[0m Trial 18 pruned. \u001b[0m\n"
     ]
    },
    {
     "name": "stdout",
     "output_type": "stream",
     "text": [
      "Train Epoch: 0 [64/60000]\tLoss: 2.379465\n",
      "Train Epoch: 0 [12864/60000]\tLoss: 1.713464\n",
      "Train Epoch: 0 [25664/60000]\tLoss: 1.378343\n",
      "Train Epoch: 0 [38464/60000]\tLoss: 1.241703\n",
      "Train Epoch: 0 [51264/60000]\tLoss: 1.097566\n"
     ]
    },
    {
     "name": "stderr",
     "output_type": "stream",
     "text": [
      "\u001b[32m[I 2021-05-27 08:10:57,131]\u001b[0m Trial 19 pruned. \u001b[0m\n"
     ]
    },
    {
     "name": "stdout",
     "output_type": "stream",
     "text": [
      "Train Epoch: 0 [32/60000]\tLoss: 2.315771\n",
      "Train Epoch: 0 [6432/60000]\tLoss: 1.028970\n",
      "Train Epoch: 0 [12832/60000]\tLoss: 0.755880\n",
      "Train Epoch: 0 [19232/60000]\tLoss: 0.937524\n",
      "Train Epoch: 0 [25632/60000]\tLoss: 1.334903\n",
      "Train Epoch: 0 [32032/60000]\tLoss: 1.213804\n",
      "Train Epoch: 0 [38432/60000]\tLoss: 0.994059\n",
      "Train Epoch: 0 [44832/60000]\tLoss: 1.037905\n",
      "Train Epoch: 0 [51232/60000]\tLoss: 1.062809\n",
      "Train Epoch: 0 [57632/60000]\tLoss: 1.038319\n"
     ]
    },
    {
     "name": "stderr",
     "output_type": "stream",
     "text": [
      "\u001b[32m[I 2021-05-27 08:11:04,243]\u001b[0m Trial 20 pruned. \u001b[0m\n"
     ]
    },
    {
     "name": "stdout",
     "output_type": "stream",
     "text": [
      "Train Epoch: 0 [8/60000]\tLoss: 2.356654\n",
      "Train Epoch: 0 [1608/60000]\tLoss: 1.288231\n",
      "Train Epoch: 0 [3208/60000]\tLoss: 0.824331\n",
      "Train Epoch: 0 [4808/60000]\tLoss: 0.785284\n",
      "Train Epoch: 0 [6408/60000]\tLoss: 1.488716\n",
      "Train Epoch: 0 [8008/60000]\tLoss: 1.568234\n",
      "Train Epoch: 0 [9608/60000]\tLoss: 0.385298\n",
      "Train Epoch: 0 [11208/60000]\tLoss: 0.569292\n",
      "Train Epoch: 0 [12808/60000]\tLoss: 0.406234\n",
      "Train Epoch: 0 [14408/60000]\tLoss: 0.362712\n",
      "Train Epoch: 0 [16008/60000]\tLoss: 0.392545\n",
      "Train Epoch: 0 [17608/60000]\tLoss: 0.649733\n",
      "Train Epoch: 0 [19208/60000]\tLoss: 1.005689\n",
      "Train Epoch: 0 [20808/60000]\tLoss: 0.281415\n",
      "Train Epoch: 0 [22408/60000]\tLoss: 0.811788\n",
      "Train Epoch: 0 [24008/60000]\tLoss: 0.459202\n",
      "Train Epoch: 0 [25608/60000]\tLoss: 0.802871\n",
      "Train Epoch: 0 [27208/60000]\tLoss: 0.378051\n",
      "Train Epoch: 0 [28808/60000]\tLoss: 0.991560\n",
      "Train Epoch: 0 [30408/60000]\tLoss: 0.301171\n",
      "Train Epoch: 0 [32008/60000]\tLoss: 0.361546\n",
      "Train Epoch: 0 [33608/60000]\tLoss: 0.436444\n",
      "Train Epoch: 0 [35208/60000]\tLoss: 0.666332\n",
      "Train Epoch: 0 [36808/60000]\tLoss: 0.149066\n",
      "Train Epoch: 0 [38408/60000]\tLoss: 0.660351\n",
      "Train Epoch: 0 [40008/60000]\tLoss: 0.664200\n",
      "Train Epoch: 0 [41608/60000]\tLoss: 0.632582\n",
      "Train Epoch: 0 [43208/60000]\tLoss: 1.005903\n",
      "Train Epoch: 0 [44808/60000]\tLoss: 0.257184\n",
      "Train Epoch: 0 [46408/60000]\tLoss: 0.345769\n",
      "Train Epoch: 0 [48008/60000]\tLoss: 0.782261\n",
      "Train Epoch: 0 [49608/60000]\tLoss: 0.252784\n",
      "Train Epoch: 0 [51208/60000]\tLoss: 0.413674\n",
      "Train Epoch: 0 [52808/60000]\tLoss: 0.700143\n",
      "Train Epoch: 0 [54408/60000]\tLoss: 0.460557\n",
      "Train Epoch: 0 [56008/60000]\tLoss: 0.805690\n",
      "Train Epoch: 0 [57608/60000]\tLoss: 0.621178\n",
      "Train Epoch: 0 [59208/60000]\tLoss: 0.612852\n"
     ]
    },
    {
     "name": "stderr",
     "output_type": "stream",
     "text": [
      "\u001b[32m[I 2021-05-27 08:11:33,972]\u001b[0m Trial 21 finished with value: 0.8212 and parameters: {'n_layers': 2, 'n_units_l0': 107, 'dropout_l0': 0.4006251445165232, 'n_units_l1': 40, 'dropout_l1': 0.3469817663569324, 'optimizer': 'Adam', 'lr': 0.001531850808705836, 'batch_size': 8, 'epoch': 18}. Best is trial 6 with value: 0.8303.\u001b[0m\n"
     ]
    },
    {
     "name": "stdout",
     "output_type": "stream",
     "text": [
      "Train Epoch: 0 [8/60000]\tLoss: 2.293961\n",
      "Train Epoch: 0 [1608/60000]\tLoss: 1.951799\n",
      "Train Epoch: 0 [3208/60000]\tLoss: 1.682902\n",
      "Train Epoch: 0 [4808/60000]\tLoss: 1.219793\n",
      "Train Epoch: 0 [6408/60000]\tLoss: 0.695798\n",
      "Train Epoch: 0 [8008/60000]\tLoss: 1.005763\n",
      "Train Epoch: 0 [9608/60000]\tLoss: 0.754482\n",
      "Train Epoch: 0 [11208/60000]\tLoss: 0.484144\n",
      "Train Epoch: 0 [12808/60000]\tLoss: 0.410362\n",
      "Train Epoch: 0 [14408/60000]\tLoss: 0.873683\n",
      "Train Epoch: 0 [16008/60000]\tLoss: 0.903300\n",
      "Train Epoch: 0 [17608/60000]\tLoss: 0.241596\n",
      "Train Epoch: 0 [19208/60000]\tLoss: 0.696909\n",
      "Train Epoch: 0 [20808/60000]\tLoss: 1.484852\n",
      "Train Epoch: 0 [22408/60000]\tLoss: 0.761187\n",
      "Train Epoch: 0 [24008/60000]\tLoss: 0.445236\n",
      "Train Epoch: 0 [25608/60000]\tLoss: 0.758497\n",
      "Train Epoch: 0 [27208/60000]\tLoss: 0.599405\n",
      "Train Epoch: 0 [28808/60000]\tLoss: 1.109775\n",
      "Train Epoch: 0 [30408/60000]\tLoss: 0.732716\n",
      "Train Epoch: 0 [32008/60000]\tLoss: 0.673038\n",
      "Train Epoch: 0 [33608/60000]\tLoss: 0.536286\n",
      "Train Epoch: 0 [35208/60000]\tLoss: 0.474602\n",
      "Train Epoch: 0 [36808/60000]\tLoss: 0.741991\n",
      "Train Epoch: 0 [38408/60000]\tLoss: 0.543393\n",
      "Train Epoch: 0 [40008/60000]\tLoss: 0.589218\n",
      "Train Epoch: 0 [41608/60000]\tLoss: 0.681430\n",
      "Train Epoch: 0 [43208/60000]\tLoss: 0.443899\n",
      "Train Epoch: 0 [44808/60000]\tLoss: 1.010044\n",
      "Train Epoch: 0 [46408/60000]\tLoss: 0.552511\n",
      "Train Epoch: 0 [48008/60000]\tLoss: 0.640653\n",
      "Train Epoch: 0 [49608/60000]\tLoss: 0.401785\n",
      "Train Epoch: 0 [51208/60000]\tLoss: 0.779659\n",
      "Train Epoch: 0 [52808/60000]\tLoss: 0.824986\n",
      "Train Epoch: 0 [54408/60000]\tLoss: 0.559433\n",
      "Train Epoch: 0 [56008/60000]\tLoss: 0.739745\n",
      "Train Epoch: 0 [57608/60000]\tLoss: 0.398899\n",
      "Train Epoch: 0 [59208/60000]\tLoss: 1.055087\n"
     ]
    },
    {
     "name": "stderr",
     "output_type": "stream",
     "text": [
      "\u001b[32m[I 2021-05-27 08:12:05,286]\u001b[0m Trial 22 finished with value: 0.8187 and parameters: {'n_layers': 2, 'n_units_l0': 127, 'dropout_l0': 0.38575636792973333, 'n_units_l1': 37, 'dropout_l1': 0.3872231095095028, 'optimizer': 'Adam', 'lr': 0.00023518327459933302, 'batch_size': 8, 'epoch': 19}. Best is trial 6 with value: 0.8303.\u001b[0m\n"
     ]
    },
    {
     "name": "stdout",
     "output_type": "stream",
     "text": [
      "Train Epoch: 0 [8/60000]\tLoss: 2.343517\n",
      "Train Epoch: 0 [1608/60000]\tLoss: 1.682413\n",
      "Train Epoch: 0 [3208/60000]\tLoss: 1.755543\n",
      "Train Epoch: 0 [4808/60000]\tLoss: 1.222401\n",
      "Train Epoch: 0 [6408/60000]\tLoss: 1.218455\n",
      "Train Epoch: 0 [8008/60000]\tLoss: 0.838630\n",
      "Train Epoch: 0 [9608/60000]\tLoss: 1.133445\n",
      "Train Epoch: 0 [11208/60000]\tLoss: 0.787323\n",
      "Train Epoch: 0 [12808/60000]\tLoss: 0.949533\n",
      "Train Epoch: 0 [14408/60000]\tLoss: 0.616445\n",
      "Train Epoch: 0 [16008/60000]\tLoss: 0.724165\n",
      "Train Epoch: 0 [17608/60000]\tLoss: 1.345307\n",
      "Train Epoch: 0 [19208/60000]\tLoss: 0.888261\n",
      "Train Epoch: 0 [20808/60000]\tLoss: 0.870688\n",
      "Train Epoch: 0 [22408/60000]\tLoss: 0.593396\n",
      "Train Epoch: 0 [24008/60000]\tLoss: 1.262141\n",
      "Train Epoch: 0 [25608/60000]\tLoss: 0.960622\n",
      "Train Epoch: 0 [27208/60000]\tLoss: 0.844088\n",
      "Train Epoch: 0 [28808/60000]\tLoss: 1.248451\n",
      "Train Epoch: 0 [30408/60000]\tLoss: 0.484785\n",
      "Train Epoch: 0 [32008/60000]\tLoss: 0.686987\n",
      "Train Epoch: 0 [33608/60000]\tLoss: 0.894827\n",
      "Train Epoch: 0 [35208/60000]\tLoss: 0.400624\n",
      "Train Epoch: 0 [36808/60000]\tLoss: 0.722496\n",
      "Train Epoch: 0 [38408/60000]\tLoss: 0.455401\n",
      "Train Epoch: 0 [40008/60000]\tLoss: 0.531351\n",
      "Train Epoch: 0 [41608/60000]\tLoss: 0.402744\n",
      "Train Epoch: 0 [43208/60000]\tLoss: 0.439123\n",
      "Train Epoch: 0 [44808/60000]\tLoss: 0.732258\n",
      "Train Epoch: 0 [46408/60000]\tLoss: 0.573602\n",
      "Train Epoch: 0 [48008/60000]\tLoss: 0.216376\n",
      "Train Epoch: 0 [49608/60000]\tLoss: 1.216936\n",
      "Train Epoch: 0 [51208/60000]\tLoss: 0.262752\n",
      "Train Epoch: 0 [52808/60000]\tLoss: 0.141591\n",
      "Train Epoch: 0 [54408/60000]\tLoss: 0.272530\n",
      "Train Epoch: 0 [56008/60000]\tLoss: 0.468734\n",
      "Train Epoch: 0 [57608/60000]\tLoss: 0.738513\n",
      "Train Epoch: 0 [59208/60000]\tLoss: 0.363833\n"
     ]
    },
    {
     "name": "stderr",
     "output_type": "stream",
     "text": [
      "\u001b[32m[I 2021-05-27 08:12:34,656]\u001b[0m Trial 23 finished with value: 0.8144 and parameters: {'n_layers': 2, 'n_units_l0': 115, 'dropout_l0': 0.3613425638713573, 'n_units_l1': 41, 'dropout_l1': 0.3827875997530835, 'optimizer': 'Adam', 'lr': 0.00019256779153352342, 'batch_size': 8, 'epoch': 20}. Best is trial 6 with value: 0.8303.\u001b[0m\n"
     ]
    },
    {
     "name": "stdout",
     "output_type": "stream",
     "text": [
      "Train Epoch: 0 [8/60000]\tLoss: 2.254828\n",
      "Train Epoch: 0 [1608/60000]\tLoss: 1.075923\n",
      "Train Epoch: 0 [3208/60000]\tLoss: 0.739263\n",
      "Train Epoch: 0 [4808/60000]\tLoss: 0.518131\n",
      "Train Epoch: 0 [6408/60000]\tLoss: 1.034317\n",
      "Train Epoch: 0 [8008/60000]\tLoss: 1.282631\n",
      "Train Epoch: 0 [9608/60000]\tLoss: 0.840346\n",
      "Train Epoch: 0 [11208/60000]\tLoss: 0.721933\n",
      "Train Epoch: 0 [12808/60000]\tLoss: 0.500672\n",
      "Train Epoch: 0 [14408/60000]\tLoss: 1.659327\n",
      "Train Epoch: 0 [16008/60000]\tLoss: 0.972755\n",
      "Train Epoch: 0 [17608/60000]\tLoss: 0.395961\n",
      "Train Epoch: 0 [19208/60000]\tLoss: 0.265600\n",
      "Train Epoch: 0 [20808/60000]\tLoss: 0.780990\n",
      "Train Epoch: 0 [22408/60000]\tLoss: 0.605385\n",
      "Train Epoch: 0 [24008/60000]\tLoss: 1.527794\n",
      "Train Epoch: 0 [25608/60000]\tLoss: 0.697200\n",
      "Train Epoch: 0 [27208/60000]\tLoss: 0.942939\n",
      "Train Epoch: 0 [28808/60000]\tLoss: 0.399789\n",
      "Train Epoch: 0 [30408/60000]\tLoss: 0.688443\n",
      "Train Epoch: 0 [32008/60000]\tLoss: 0.730190\n",
      "Train Epoch: 0 [33608/60000]\tLoss: 0.622075\n",
      "Train Epoch: 0 [35208/60000]\tLoss: 0.316137\n",
      "Train Epoch: 0 [36808/60000]\tLoss: 0.576760\n",
      "Train Epoch: 0 [38408/60000]\tLoss: 1.578160\n",
      "Train Epoch: 0 [40008/60000]\tLoss: 0.639735\n",
      "Train Epoch: 0 [41608/60000]\tLoss: 0.325195\n",
      "Train Epoch: 0 [43208/60000]\tLoss: 1.310875\n",
      "Train Epoch: 0 [44808/60000]\tLoss: 0.456002\n",
      "Train Epoch: 0 [46408/60000]\tLoss: 2.502069\n",
      "Train Epoch: 0 [48008/60000]\tLoss: 0.240659\n",
      "Train Epoch: 0 [49608/60000]\tLoss: 0.597108\n",
      "Train Epoch: 0 [51208/60000]\tLoss: 0.805559\n",
      "Train Epoch: 0 [52808/60000]\tLoss: 0.315407\n",
      "Train Epoch: 0 [54408/60000]\tLoss: 0.420771\n",
      "Train Epoch: 0 [56008/60000]\tLoss: 0.369273\n",
      "Train Epoch: 0 [57608/60000]\tLoss: 0.259788\n",
      "Train Epoch: 0 [59208/60000]\tLoss: 0.411700\n"
     ]
    },
    {
     "name": "stderr",
     "output_type": "stream",
     "text": [
      "\u001b[32m[I 2021-05-27 08:13:04,477]\u001b[0m Trial 24 finished with value: 0.8281 and parameters: {'n_layers': 2, 'n_units_l0': 128, 'dropout_l0': 0.3936828802507161, 'n_units_l1': 34, 'dropout_l1': 0.4053705874712352, 'optimizer': 'Adam', 'lr': 0.0008806416884750545, 'batch_size': 8, 'epoch': 19}. Best is trial 6 with value: 0.8303.\u001b[0m\n"
     ]
    },
    {
     "name": "stdout",
     "output_type": "stream",
     "text": [
      "Train Epoch: 0 [8/60000]\tLoss: 2.321769\n",
      "Train Epoch: 0 [1608/60000]\tLoss: 1.424003\n",
      "Train Epoch: 0 [3208/60000]\tLoss: 1.534346\n",
      "Train Epoch: 0 [4808/60000]\tLoss: 1.422339\n",
      "Train Epoch: 0 [6408/60000]\tLoss: 0.722594\n",
      "Train Epoch: 0 [8008/60000]\tLoss: 0.700361\n",
      "Train Epoch: 0 [9608/60000]\tLoss: 0.661257\n",
      "Train Epoch: 0 [11208/60000]\tLoss: 0.531767\n",
      "Train Epoch: 0 [12808/60000]\tLoss: 0.715423\n",
      "Train Epoch: 0 [14408/60000]\tLoss: 1.020833\n",
      "Train Epoch: 0 [16008/60000]\tLoss: 1.142352\n",
      "Train Epoch: 0 [17608/60000]\tLoss: 0.731986\n",
      "Train Epoch: 0 [19208/60000]\tLoss: 1.185748\n",
      "Train Epoch: 0 [20808/60000]\tLoss: 0.951310\n",
      "Train Epoch: 0 [22408/60000]\tLoss: 0.611271\n",
      "Train Epoch: 0 [24008/60000]\tLoss: 1.183599\n",
      "Train Epoch: 0 [25608/60000]\tLoss: 1.415888\n",
      "Train Epoch: 0 [27208/60000]\tLoss: 0.908768\n",
      "Train Epoch: 0 [28808/60000]\tLoss: 0.339821\n",
      "Train Epoch: 0 [30408/60000]\tLoss: 0.608248\n",
      "Train Epoch: 0 [32008/60000]\tLoss: 0.874725\n",
      "Train Epoch: 0 [33608/60000]\tLoss: 0.538800\n",
      "Train Epoch: 0 [35208/60000]\tLoss: 0.928624\n",
      "Train Epoch: 0 [36808/60000]\tLoss: 0.533823\n",
      "Train Epoch: 0 [38408/60000]\tLoss: 0.546257\n",
      "Train Epoch: 0 [40008/60000]\tLoss: 1.332789\n",
      "Train Epoch: 0 [41608/60000]\tLoss: 0.679991\n",
      "Train Epoch: 0 [43208/60000]\tLoss: 0.427087\n",
      "Train Epoch: 0 [44808/60000]\tLoss: 1.397636\n",
      "Train Epoch: 0 [46408/60000]\tLoss: 0.768631\n",
      "Train Epoch: 0 [48008/60000]\tLoss: 0.721619\n",
      "Train Epoch: 0 [49608/60000]\tLoss: 0.562286\n",
      "Train Epoch: 0 [51208/60000]\tLoss: 0.523449\n",
      "Train Epoch: 0 [52808/60000]\tLoss: 0.587860\n",
      "Train Epoch: 0 [54408/60000]\tLoss: 0.684159\n",
      "Train Epoch: 0 [56008/60000]\tLoss: 1.156642\n",
      "Train Epoch: 0 [57608/60000]\tLoss: 1.007746\n",
      "Train Epoch: 0 [59208/60000]\tLoss: 0.793868\n"
     ]
    },
    {
     "name": "stderr",
     "output_type": "stream",
     "text": [
      "\u001b[32m[I 2021-05-27 08:13:39,033]\u001b[0m Trial 25 pruned. \u001b[0m\n"
     ]
    },
    {
     "name": "stdout",
     "output_type": "stream",
     "text": [
      "Train Epoch: 0 [8/60000]\tLoss: 2.270503\n",
      "Train Epoch: 0 [1608/60000]\tLoss: 1.274045\n",
      "Train Epoch: 0 [3208/60000]\tLoss: 1.411250\n",
      "Train Epoch: 0 [4808/60000]\tLoss: 0.879212\n",
      "Train Epoch: 0 [6408/60000]\tLoss: 0.981294\n",
      "Train Epoch: 0 [8008/60000]\tLoss: 0.740973\n",
      "Train Epoch: 0 [9608/60000]\tLoss: 1.355118\n",
      "Train Epoch: 0 [11208/60000]\tLoss: 1.011999\n",
      "Train Epoch: 0 [12808/60000]\tLoss: 0.508337\n",
      "Train Epoch: 0 [14408/60000]\tLoss: 1.174522\n",
      "Train Epoch: 0 [16008/60000]\tLoss: 0.773596\n",
      "Train Epoch: 0 [17608/60000]\tLoss: 0.226004\n",
      "Train Epoch: 0 [19208/60000]\tLoss: 0.664407\n",
      "Train Epoch: 0 [20808/60000]\tLoss: 1.155311\n",
      "Train Epoch: 0 [22408/60000]\tLoss: 0.627024\n",
      "Train Epoch: 0 [24008/60000]\tLoss: 0.488170\n",
      "Train Epoch: 0 [25608/60000]\tLoss: 0.971602\n",
      "Train Epoch: 0 [27208/60000]\tLoss: 1.061222\n",
      "Train Epoch: 0 [28808/60000]\tLoss: 0.238638\n",
      "Train Epoch: 0 [30408/60000]\tLoss: 0.609497\n",
      "Train Epoch: 0 [32008/60000]\tLoss: 0.556223\n",
      "Train Epoch: 0 [33608/60000]\tLoss: 0.486679\n",
      "Train Epoch: 0 [35208/60000]\tLoss: 0.852168\n",
      "Train Epoch: 0 [36808/60000]\tLoss: 0.877774\n",
      "Train Epoch: 0 [38408/60000]\tLoss: 0.900789\n",
      "Train Epoch: 0 [40008/60000]\tLoss: 1.142751\n",
      "Train Epoch: 0 [41608/60000]\tLoss: 0.768668\n",
      "Train Epoch: 0 [43208/60000]\tLoss: 0.799913\n",
      "Train Epoch: 0 [44808/60000]\tLoss: 0.672329\n",
      "Train Epoch: 0 [46408/60000]\tLoss: 0.601895\n",
      "Train Epoch: 0 [48008/60000]\tLoss: 0.477524\n",
      "Train Epoch: 0 [49608/60000]\tLoss: 0.608909\n",
      "Train Epoch: 0 [51208/60000]\tLoss: 0.798644\n",
      "Train Epoch: 0 [52808/60000]\tLoss: 0.455745\n",
      "Train Epoch: 0 [54408/60000]\tLoss: 0.191610\n",
      "Train Epoch: 0 [56008/60000]\tLoss: 0.327114\n",
      "Train Epoch: 0 [57608/60000]\tLoss: 0.840549\n",
      "Train Epoch: 0 [59208/60000]\tLoss: 0.809191\n"
     ]
    },
    {
     "name": "stderr",
     "output_type": "stream",
     "text": [
      "\u001b[32m[I 2021-05-27 08:14:08,668]\u001b[0m Trial 26 pruned. \u001b[0m\n"
     ]
    },
    {
     "name": "stdout",
     "output_type": "stream",
     "text": [
      "Train Epoch: 0 [8/60000]\tLoss: 2.329314\n",
      "Train Epoch: 0 [1608/60000]\tLoss: 2.020931\n",
      "Train Epoch: 0 [3208/60000]\tLoss: 1.801768\n",
      "Train Epoch: 0 [4808/60000]\tLoss: 1.586551\n",
      "Train Epoch: 0 [6408/60000]\tLoss: 1.474449\n",
      "Train Epoch: 0 [8008/60000]\tLoss: 1.818392\n",
      "Train Epoch: 0 [9608/60000]\tLoss: 1.054693\n",
      "Train Epoch: 0 [11208/60000]\tLoss: 1.266572\n",
      "Train Epoch: 0 [12808/60000]\tLoss: 1.097388\n",
      "Train Epoch: 0 [14408/60000]\tLoss: 1.227406\n",
      "Train Epoch: 0 [16008/60000]\tLoss: 0.738996\n",
      "Train Epoch: 0 [17608/60000]\tLoss: 0.895100\n",
      "Train Epoch: 0 [19208/60000]\tLoss: 1.550949\n",
      "Train Epoch: 0 [20808/60000]\tLoss: 1.439664\n",
      "Train Epoch: 0 [22408/60000]\tLoss: 0.880246\n",
      "Train Epoch: 0 [24008/60000]\tLoss: 0.944292\n",
      "Train Epoch: 0 [25608/60000]\tLoss: 1.006348\n",
      "Train Epoch: 0 [27208/60000]\tLoss: 0.552991\n",
      "Train Epoch: 0 [28808/60000]\tLoss: 1.377444\n",
      "Train Epoch: 0 [30408/60000]\tLoss: 0.981356\n",
      "Train Epoch: 0 [32008/60000]\tLoss: 1.152553\n",
      "Train Epoch: 0 [33608/60000]\tLoss: 1.289283\n",
      "Train Epoch: 0 [35208/60000]\tLoss: 1.102989\n",
      "Train Epoch: 0 [36808/60000]\tLoss: 0.602240\n",
      "Train Epoch: 0 [38408/60000]\tLoss: 0.793803\n",
      "Train Epoch: 0 [40008/60000]\tLoss: 0.565312\n",
      "Train Epoch: 0 [41608/60000]\tLoss: 1.419276\n",
      "Train Epoch: 0 [43208/60000]\tLoss: 1.245264\n",
      "Train Epoch: 0 [44808/60000]\tLoss: 0.800511\n",
      "Train Epoch: 0 [46408/60000]\tLoss: 0.880094\n",
      "Train Epoch: 0 [48008/60000]\tLoss: 1.769663\n",
      "Train Epoch: 0 [49608/60000]\tLoss: 0.915794\n",
      "Train Epoch: 0 [51208/60000]\tLoss: 0.872811\n",
      "Train Epoch: 0 [52808/60000]\tLoss: 0.895839\n",
      "Train Epoch: 0 [54408/60000]\tLoss: 0.636452\n",
      "Train Epoch: 0 [56008/60000]\tLoss: 0.904912\n",
      "Train Epoch: 0 [57608/60000]\tLoss: 1.181073\n",
      "Train Epoch: 0 [59208/60000]\tLoss: 0.786227\n"
     ]
    },
    {
     "name": "stderr",
     "output_type": "stream",
     "text": [
      "\u001b[32m[I 2021-05-27 08:14:38,520]\u001b[0m Trial 27 pruned. \u001b[0m\n"
     ]
    },
    {
     "name": "stdout",
     "output_type": "stream",
     "text": [
      "Train Epoch: 0 [8/60000]\tLoss: 2.285015\n",
      "Train Epoch: 0 [1608/60000]\tLoss: 1.754445\n",
      "Train Epoch: 0 [3208/60000]\tLoss: 0.892465\n",
      "Train Epoch: 0 [4808/60000]\tLoss: 1.140540\n",
      "Train Epoch: 0 [6408/60000]\tLoss: 0.856875\n",
      "Train Epoch: 0 [8008/60000]\tLoss: 1.012479\n",
      "Train Epoch: 0 [9608/60000]\tLoss: 0.915814\n",
      "Train Epoch: 0 [11208/60000]\tLoss: 0.916071\n",
      "Train Epoch: 0 [12808/60000]\tLoss: 0.847306\n",
      "Train Epoch: 0 [14408/60000]\tLoss: 0.347287\n",
      "Train Epoch: 0 [16008/60000]\tLoss: 0.490011\n",
      "Train Epoch: 0 [17608/60000]\tLoss: 0.450010\n",
      "Train Epoch: 0 [19208/60000]\tLoss: 0.518403\n",
      "Train Epoch: 0 [20808/60000]\tLoss: 0.277485\n",
      "Train Epoch: 0 [22408/60000]\tLoss: 0.706644\n",
      "Train Epoch: 0 [24008/60000]\tLoss: 0.979337\n",
      "Train Epoch: 0 [25608/60000]\tLoss: 0.245330\n",
      "Train Epoch: 0 [27208/60000]\tLoss: 0.236936\n",
      "Train Epoch: 0 [28808/60000]\tLoss: 1.040873\n",
      "Train Epoch: 0 [30408/60000]\tLoss: 0.743012\n",
      "Train Epoch: 0 [32008/60000]\tLoss: 1.009959\n",
      "Train Epoch: 0 [33608/60000]\tLoss: 0.564151\n",
      "Train Epoch: 0 [35208/60000]\tLoss: 0.656831\n",
      "Train Epoch: 0 [36808/60000]\tLoss: 0.758530\n",
      "Train Epoch: 0 [38408/60000]\tLoss: 0.927300\n",
      "Train Epoch: 0 [40008/60000]\tLoss: 0.397474\n",
      "Train Epoch: 0 [41608/60000]\tLoss: 1.117168\n",
      "Train Epoch: 0 [43208/60000]\tLoss: 0.622505\n",
      "Train Epoch: 0 [44808/60000]\tLoss: 0.661016\n",
      "Train Epoch: 0 [46408/60000]\tLoss: 0.563809\n",
      "Train Epoch: 0 [48008/60000]\tLoss: 0.642125\n",
      "Train Epoch: 0 [49608/60000]\tLoss: 0.355997\n",
      "Train Epoch: 0 [51208/60000]\tLoss: 0.859396\n",
      "Train Epoch: 0 [52808/60000]\tLoss: 0.370012\n",
      "Train Epoch: 0 [54408/60000]\tLoss: 0.642122\n",
      "Train Epoch: 0 [56008/60000]\tLoss: 0.268293\n",
      "Train Epoch: 0 [57608/60000]\tLoss: 0.770050\n",
      "Train Epoch: 0 [59208/60000]\tLoss: 0.509802\n"
     ]
    },
    {
     "name": "stderr",
     "output_type": "stream",
     "text": [
      "\u001b[32m[I 2021-05-27 08:15:07,484]\u001b[0m Trial 28 finished with value: 0.8233 and parameters: {'n_layers': 2, 'n_units_l0': 94, 'dropout_l0': 0.3378047227954424, 'n_units_l1': 55, 'dropout_l1': 0.41967427768634386, 'optimizer': 'Adam', 'lr': 0.0018102989537961938, 'batch_size': 8, 'epoch': 16}. Best is trial 6 with value: 0.8303.\u001b[0m\n"
     ]
    },
    {
     "name": "stdout",
     "output_type": "stream",
     "text": [
      "Train Epoch: 0 [64/60000]\tLoss: 2.293413\n",
      "Train Epoch: 0 [12864/60000]\tLoss: 1.827337\n",
      "Train Epoch: 0 [25664/60000]\tLoss: 1.673729\n",
      "Train Epoch: 0 [38464/60000]\tLoss: 1.697715\n",
      "Train Epoch: 0 [51264/60000]\tLoss: 1.499424\n"
     ]
    },
    {
     "name": "stderr",
     "output_type": "stream",
     "text": [
      "\u001b[32m[I 2021-05-27 08:15:13,165]\u001b[0m Trial 29 pruned. \u001b[0m\n"
     ]
    },
    {
     "name": "stdout",
     "output_type": "stream",
     "text": [
      "Train Epoch: 0 [8/60000]\tLoss: 2.333226\n",
      "Train Epoch: 0 [1608/60000]\tLoss: 1.921189\n",
      "Train Epoch: 0 [3208/60000]\tLoss: 1.302608\n",
      "Train Epoch: 0 [4808/60000]\tLoss: 1.293393\n",
      "Train Epoch: 0 [6408/60000]\tLoss: 0.787334\n",
      "Train Epoch: 0 [8008/60000]\tLoss: 1.301576\n",
      "Train Epoch: 0 [9608/60000]\tLoss: 1.315153\n",
      "Train Epoch: 0 [11208/60000]\tLoss: 0.772483\n",
      "Train Epoch: 0 [12808/60000]\tLoss: 0.689455\n",
      "Train Epoch: 0 [14408/60000]\tLoss: 0.875026\n",
      "Train Epoch: 0 [16008/60000]\tLoss: 0.716912\n",
      "Train Epoch: 0 [17608/60000]\tLoss: 1.313047\n",
      "Train Epoch: 0 [19208/60000]\tLoss: 0.583735\n",
      "Train Epoch: 0 [20808/60000]\tLoss: 0.867107\n",
      "Train Epoch: 0 [22408/60000]\tLoss: 1.150181\n",
      "Train Epoch: 0 [24008/60000]\tLoss: 0.487436\n",
      "Train Epoch: 0 [25608/60000]\tLoss: 0.755576\n",
      "Train Epoch: 0 [27208/60000]\tLoss: 0.508780\n",
      "Train Epoch: 0 [28808/60000]\tLoss: 0.673987\n",
      "Train Epoch: 0 [30408/60000]\tLoss: 0.428215\n",
      "Train Epoch: 0 [32008/60000]\tLoss: 0.442427\n",
      "Train Epoch: 0 [33608/60000]\tLoss: 1.033808\n",
      "Train Epoch: 0 [35208/60000]\tLoss: 0.785062\n",
      "Train Epoch: 0 [36808/60000]\tLoss: 0.891945\n",
      "Train Epoch: 0 [38408/60000]\tLoss: 0.597355\n",
      "Train Epoch: 0 [40008/60000]\tLoss: 0.774931\n",
      "Train Epoch: 0 [41608/60000]\tLoss: 0.691048\n",
      "Train Epoch: 0 [43208/60000]\tLoss: 0.243176\n",
      "Train Epoch: 0 [44808/60000]\tLoss: 0.594338\n",
      "Train Epoch: 0 [46408/60000]\tLoss: 0.371360\n",
      "Train Epoch: 0 [48008/60000]\tLoss: 1.279361\n",
      "Train Epoch: 0 [49608/60000]\tLoss: 0.454741\n",
      "Train Epoch: 0 [51208/60000]\tLoss: 0.443120\n",
      "Train Epoch: 0 [52808/60000]\tLoss: 2.005318\n",
      "Train Epoch: 0 [54408/60000]\tLoss: 0.472692\n",
      "Train Epoch: 0 [56008/60000]\tLoss: 0.225451\n",
      "Train Epoch: 0 [57608/60000]\tLoss: 0.520052\n",
      "Train Epoch: 0 [59208/60000]\tLoss: 0.075531\n"
     ]
    },
    {
     "name": "stderr",
     "output_type": "stream",
     "text": [
      "\u001b[32m[I 2021-05-27 08:15:47,807]\u001b[0m Trial 30 finished with value: 0.8248 and parameters: {'n_layers': 3, 'n_units_l0': 93, 'dropout_l0': 0.29779818045088624, 'n_units_l1': 49, 'dropout_l1': 0.43306368098508674, 'n_units_l2': 62, 'dropout_l2': 0.3414309173878272, 'optimizer': 'Adam', 'lr': 0.00041334374398381194, 'batch_size': 8, 'epoch': 14}. Best is trial 6 with value: 0.8303.\u001b[0m\n"
     ]
    },
    {
     "name": "stdout",
     "output_type": "stream",
     "text": [
      "Train Epoch: 0 [8/60000]\tLoss: 2.353613\n",
      "Train Epoch: 0 [1608/60000]\tLoss: 1.877881\n",
      "Train Epoch: 0 [3208/60000]\tLoss: 1.217835\n",
      "Train Epoch: 0 [4808/60000]\tLoss: 1.405376\n",
      "Train Epoch: 0 [6408/60000]\tLoss: 0.640967\n",
      "Train Epoch: 0 [8008/60000]\tLoss: 1.068099\n",
      "Train Epoch: 0 [9608/60000]\tLoss: 0.674202\n",
      "Train Epoch: 0 [11208/60000]\tLoss: 0.977569\n",
      "Train Epoch: 0 [12808/60000]\tLoss: 1.135774\n",
      "Train Epoch: 0 [14408/60000]\tLoss: 0.906469\n",
      "Train Epoch: 0 [16008/60000]\tLoss: 1.424898\n",
      "Train Epoch: 0 [17608/60000]\tLoss: 0.375815\n",
      "Train Epoch: 0 [19208/60000]\tLoss: 0.597053\n",
      "Train Epoch: 0 [20808/60000]\tLoss: 1.128607\n",
      "Train Epoch: 0 [22408/60000]\tLoss: 0.927759\n",
      "Train Epoch: 0 [24008/60000]\tLoss: 0.602629\n",
      "Train Epoch: 0 [25608/60000]\tLoss: 0.322634\n",
      "Train Epoch: 0 [27208/60000]\tLoss: 0.770054\n",
      "Train Epoch: 0 [28808/60000]\tLoss: 0.584670\n",
      "Train Epoch: 0 [30408/60000]\tLoss: 0.508191\n",
      "Train Epoch: 0 [32008/60000]\tLoss: 0.258470\n",
      "Train Epoch: 0 [33608/60000]\tLoss: 0.373944\n",
      "Train Epoch: 0 [35208/60000]\tLoss: 0.796125\n",
      "Train Epoch: 0 [36808/60000]\tLoss: 0.200624\n",
      "Train Epoch: 0 [38408/60000]\tLoss: 0.760928\n",
      "Train Epoch: 0 [40008/60000]\tLoss: 0.735370\n",
      "Train Epoch: 0 [41608/60000]\tLoss: 0.252071\n",
      "Train Epoch: 0 [43208/60000]\tLoss: 0.908961\n",
      "Train Epoch: 0 [44808/60000]\tLoss: 0.675449\n",
      "Train Epoch: 0 [46408/60000]\tLoss: 0.576086\n",
      "Train Epoch: 0 [48008/60000]\tLoss: 1.294461\n",
      "Train Epoch: 0 [49608/60000]\tLoss: 1.042498\n",
      "Train Epoch: 0 [51208/60000]\tLoss: 0.476031\n",
      "Train Epoch: 0 [52808/60000]\tLoss: 1.470151\n",
      "Train Epoch: 0 [54408/60000]\tLoss: 0.315266\n",
      "Train Epoch: 0 [56008/60000]\tLoss: 0.419498\n",
      "Train Epoch: 0 [57608/60000]\tLoss: 0.772066\n",
      "Train Epoch: 0 [59208/60000]\tLoss: 1.205045\n"
     ]
    },
    {
     "name": "stderr",
     "output_type": "stream",
     "text": [
      "\u001b[32m[I 2021-05-27 08:16:23,155]\u001b[0m Trial 31 finished with value: 0.8232 and parameters: {'n_layers': 3, 'n_units_l0': 94, 'dropout_l0': 0.2986436975795837, 'n_units_l1': 52, 'dropout_l1': 0.44264516156990696, 'n_units_l2': 63, 'dropout_l2': 0.3440416098705505, 'optimizer': 'Adam', 'lr': 0.0004307459522734561, 'batch_size': 8, 'epoch': 14}. Best is trial 6 with value: 0.8303.\u001b[0m\n"
     ]
    },
    {
     "name": "stdout",
     "output_type": "stream",
     "text": [
      "Train Epoch: 0 [8/60000]\tLoss: 2.285689\n",
      "Train Epoch: 0 [1608/60000]\tLoss: 0.910478\n",
      "Train Epoch: 0 [3208/60000]\tLoss: 0.563467\n",
      "Train Epoch: 0 [4808/60000]\tLoss: 0.646847\n",
      "Train Epoch: 0 [6408/60000]\tLoss: 1.112649\n",
      "Train Epoch: 0 [8008/60000]\tLoss: 0.885577\n",
      "Train Epoch: 0 [9608/60000]\tLoss: 1.318089\n",
      "Train Epoch: 0 [11208/60000]\tLoss: 0.961815\n",
      "Train Epoch: 0 [12808/60000]\tLoss: 0.821550\n",
      "Train Epoch: 0 [14408/60000]\tLoss: 0.620627\n",
      "Train Epoch: 0 [16008/60000]\tLoss: 0.788300\n",
      "Train Epoch: 0 [17608/60000]\tLoss: 0.489945\n",
      "Train Epoch: 0 [19208/60000]\tLoss: 0.849441\n",
      "Train Epoch: 0 [20808/60000]\tLoss: 0.964230\n",
      "Train Epoch: 0 [22408/60000]\tLoss: 0.636320\n",
      "Train Epoch: 0 [24008/60000]\tLoss: 0.158996\n",
      "Train Epoch: 0 [25608/60000]\tLoss: 0.781604\n",
      "Train Epoch: 0 [27208/60000]\tLoss: 1.169378\n",
      "Train Epoch: 0 [28808/60000]\tLoss: 2.185668\n",
      "Train Epoch: 0 [30408/60000]\tLoss: 1.605166\n",
      "Train Epoch: 0 [32008/60000]\tLoss: 1.783168\n",
      "Train Epoch: 0 [33608/60000]\tLoss: 0.552827\n",
      "Train Epoch: 0 [35208/60000]\tLoss: 0.308307\n",
      "Train Epoch: 0 [36808/60000]\tLoss: 1.230985\n",
      "Train Epoch: 0 [38408/60000]\tLoss: 0.381954\n",
      "Train Epoch: 0 [40008/60000]\tLoss: 1.146343\n",
      "Train Epoch: 0 [41608/60000]\tLoss: 0.373211\n",
      "Train Epoch: 0 [43208/60000]\tLoss: 0.712166\n",
      "Train Epoch: 0 [44808/60000]\tLoss: 0.987955\n",
      "Train Epoch: 0 [46408/60000]\tLoss: 0.389340\n",
      "Train Epoch: 0 [48008/60000]\tLoss: 0.295769\n",
      "Train Epoch: 0 [49608/60000]\tLoss: 0.205710\n",
      "Train Epoch: 0 [51208/60000]\tLoss: 0.471773\n",
      "Train Epoch: 0 [52808/60000]\tLoss: 0.171969\n",
      "Train Epoch: 0 [54408/60000]\tLoss: 0.441135\n",
      "Train Epoch: 0 [56008/60000]\tLoss: 0.656838\n",
      "Train Epoch: 0 [57608/60000]\tLoss: 0.721061\n",
      "Train Epoch: 0 [59208/60000]\tLoss: 0.546149\n"
     ]
    },
    {
     "name": "stderr",
     "output_type": "stream",
     "text": [
      "\u001b[32m[I 2021-05-27 08:16:58,391]\u001b[0m Trial 32 pruned. \u001b[0m\n"
     ]
    },
    {
     "name": "stdout",
     "output_type": "stream",
     "text": [
      "Train Epoch: 0 [8/60000]\tLoss: 2.298205\n",
      "Train Epoch: 0 [1608/60000]\tLoss: 1.320230\n",
      "Train Epoch: 0 [3208/60000]\tLoss: 1.294235\n",
      "Train Epoch: 0 [4808/60000]\tLoss: 0.924600\n",
      "Train Epoch: 0 [6408/60000]\tLoss: 1.646131\n",
      "Train Epoch: 0 [8008/60000]\tLoss: 1.390320\n",
      "Train Epoch: 0 [9608/60000]\tLoss: 0.785748\n",
      "Train Epoch: 0 [11208/60000]\tLoss: 0.882395\n",
      "Train Epoch: 0 [12808/60000]\tLoss: 0.593369\n",
      "Train Epoch: 0 [14408/60000]\tLoss: 0.810192\n",
      "Train Epoch: 0 [16008/60000]\tLoss: 1.005859\n",
      "Train Epoch: 0 [17608/60000]\tLoss: 0.965570\n",
      "Train Epoch: 0 [19208/60000]\tLoss: 0.929206\n",
      "Train Epoch: 0 [20808/60000]\tLoss: 0.548052\n",
      "Train Epoch: 0 [22408/60000]\tLoss: 0.907895\n",
      "Train Epoch: 0 [24008/60000]\tLoss: 0.856566\n",
      "Train Epoch: 0 [25608/60000]\tLoss: 1.237324\n",
      "Train Epoch: 0 [27208/60000]\tLoss: 0.833708\n",
      "Train Epoch: 0 [28808/60000]\tLoss: 1.094032\n",
      "Train Epoch: 0 [30408/60000]\tLoss: 1.333667\n",
      "Train Epoch: 0 [32008/60000]\tLoss: 0.732327\n",
      "Train Epoch: 0 [33608/60000]\tLoss: 0.988203\n",
      "Train Epoch: 0 [35208/60000]\tLoss: 0.226932\n",
      "Train Epoch: 0 [36808/60000]\tLoss: 0.476790\n",
      "Train Epoch: 0 [38408/60000]\tLoss: 0.647811\n",
      "Train Epoch: 0 [40008/60000]\tLoss: 0.329885\n",
      "Train Epoch: 0 [41608/60000]\tLoss: 0.351978\n",
      "Train Epoch: 0 [43208/60000]\tLoss: 0.910514\n",
      "Train Epoch: 0 [44808/60000]\tLoss: 1.168483\n",
      "Train Epoch: 0 [46408/60000]\tLoss: 0.301077\n",
      "Train Epoch: 0 [48008/60000]\tLoss: 0.267001\n",
      "Train Epoch: 0 [49608/60000]\tLoss: 0.750372\n",
      "Train Epoch: 0 [51208/60000]\tLoss: 1.511099\n",
      "Train Epoch: 0 [52808/60000]\tLoss: 0.505625\n",
      "Train Epoch: 0 [54408/60000]\tLoss: 0.518901\n",
      "Train Epoch: 0 [56008/60000]\tLoss: 0.513604\n",
      "Train Epoch: 0 [57608/60000]\tLoss: 0.847502\n",
      "Train Epoch: 0 [59208/60000]\tLoss: 0.401387\n"
     ]
    },
    {
     "name": "stderr",
     "output_type": "stream",
     "text": [
      "\u001b[32m[I 2021-05-27 08:17:28,079]\u001b[0m Trial 33 pruned. \u001b[0m\n"
     ]
    },
    {
     "name": "stdout",
     "output_type": "stream",
     "text": [
      "Train Epoch: 0 [8/60000]\tLoss: 2.287897\n",
      "Train Epoch: 0 [1608/60000]\tLoss: 1.609064\n",
      "Train Epoch: 0 [3208/60000]\tLoss: 1.223159\n",
      "Train Epoch: 0 [4808/60000]\tLoss: 1.169493\n",
      "Train Epoch: 0 [6408/60000]\tLoss: 0.629120\n",
      "Train Epoch: 0 [8008/60000]\tLoss: 1.420549\n",
      "Train Epoch: 0 [9608/60000]\tLoss: 1.170269\n",
      "Train Epoch: 0 [11208/60000]\tLoss: 1.612399\n",
      "Train Epoch: 0 [12808/60000]\tLoss: 2.074721\n",
      "Train Epoch: 0 [14408/60000]\tLoss: 1.212459\n",
      "Train Epoch: 0 [16008/60000]\tLoss: 0.409768\n",
      "Train Epoch: 0 [17608/60000]\tLoss: 0.313329\n",
      "Train Epoch: 0 [19208/60000]\tLoss: 0.608351\n",
      "Train Epoch: 0 [20808/60000]\tLoss: 0.740305\n",
      "Train Epoch: 0 [22408/60000]\tLoss: 0.357406\n",
      "Train Epoch: 0 [24008/60000]\tLoss: 0.981329\n",
      "Train Epoch: 0 [25608/60000]\tLoss: 0.120731\n",
      "Train Epoch: 0 [27208/60000]\tLoss: 0.259260\n",
      "Train Epoch: 0 [28808/60000]\tLoss: 0.541450\n",
      "Train Epoch: 0 [30408/60000]\tLoss: 0.943284\n",
      "Train Epoch: 0 [32008/60000]\tLoss: 0.450106\n",
      "Train Epoch: 0 [33608/60000]\tLoss: 0.691698\n",
      "Train Epoch: 0 [35208/60000]\tLoss: 0.262560\n",
      "Train Epoch: 0 [36808/60000]\tLoss: 0.746857\n",
      "Train Epoch: 0 [38408/60000]\tLoss: 0.609984\n",
      "Train Epoch: 0 [40008/60000]\tLoss: 0.886380\n",
      "Train Epoch: 0 [41608/60000]\tLoss: 0.649359\n",
      "Train Epoch: 0 [43208/60000]\tLoss: 1.151700\n",
      "Train Epoch: 0 [44808/60000]\tLoss: 0.851263\n",
      "Train Epoch: 0 [46408/60000]\tLoss: 0.337813\n",
      "Train Epoch: 0 [48008/60000]\tLoss: 0.120740\n",
      "Train Epoch: 0 [49608/60000]\tLoss: 0.626972\n",
      "Train Epoch: 0 [51208/60000]\tLoss: 0.278250\n",
      "Train Epoch: 0 [52808/60000]\tLoss: 0.548298\n",
      "Train Epoch: 0 [54408/60000]\tLoss: 1.395228\n",
      "Train Epoch: 0 [56008/60000]\tLoss: 0.528307\n",
      "Train Epoch: 0 [57608/60000]\tLoss: 0.292183\n",
      "Train Epoch: 0 [59208/60000]\tLoss: 0.273202\n"
     ]
    },
    {
     "name": "stderr",
     "output_type": "stream",
     "text": [
      "\u001b[32m[I 2021-05-27 08:18:03,613]\u001b[0m Trial 34 finished with value: 0.8227 and parameters: {'n_layers': 3, 'n_units_l0': 109, 'dropout_l0': 0.2772047902118284, 'n_units_l1': 49, 'dropout_l1': 0.41556583571200606, 'n_units_l2': 96, 'dropout_l2': 0.3943526968351876, 'optimizer': 'Adam', 'lr': 0.0007356313362278379, 'batch_size': 8, 'epoch': 15}. Best is trial 6 with value: 0.8303.\u001b[0m\n"
     ]
    },
    {
     "name": "stdout",
     "output_type": "stream",
     "text": [
      "Study statistics: \n",
      "  Number of finished trials:  35\n",
      "  Number of pruned trials:  17\n",
      "  Number of complete trials:  18\n",
      "Best trial:\n",
      "  Value:  0.8303\n",
      "  Params: \n",
      "    n_layers: 1\n",
      "    n_units_l0: 118\n",
      "    dropout_l0: 0.43773201064875555\n",
      "    optimizer: Adam\n",
      "    lr: 0.001138316015475726\n",
      "    batch_size: 64\n",
      "    epoch: 19\n"
     ]
    }
   ],
   "source": [
    "study = optuna.create_study(direction=\"maximize\")\n",
    "study.optimize(objective, n_trials=100, timeout=600) # 100 개의 시도\n",
    "\n",
    "# \n",
    "pruned_trials = study.get_trials(deepcopy=False, states=[TrialState.PRUNED])\n",
    "complete_trials = study.get_trials(deepcopy=False, states=[TrialState.COMPLETE])\n",
    "\n",
    "print(\"Study statistics: \")\n",
    "print(\"  Number of finished trials: \", len(study.trials))\n",
    "print(\"  Number of pruned trials: \", len(pruned_trials))\n",
    "print(\"  Number of complete trials: \", len(complete_trials))\n",
    "\n",
    "print(\"Best trial:\")\n",
    "trial = study.best_trial\n",
    "\n",
    "print(\"  Value: \", trial.value)\n",
    "\n",
    "print(\"  Params: \")\n",
    "for key, value in trial.params.items():\n",
    "    print(\"    {}: {}\".format(key, value))"
   ]
  }
 ],
 "metadata": {
  "kernelspec": {
   "display_name": "Python 3",
   "language": "python",
   "name": "python3"
  },
  "language_info": {
   "codemirror_mode": {
    "name": "ipython",
    "version": 3
   },
   "file_extension": ".py",
   "mimetype": "text/x-python",
   "name": "python",
   "nbconvert_exporter": "python",
   "pygments_lexer": "ipython3",
   "version": "3.8.5"
  }
 },
 "nbformat": 4,
 "nbformat_minor": 5
}
